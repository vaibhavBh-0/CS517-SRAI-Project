{
 "cells": [
  {
   "cell_type": "code",
   "execution_count": 1,
   "metadata": {},
   "outputs": [],
   "source": [
    "import json\n",
    "\n",
    "import numpy as np\n",
    "import torch\n",
    "import torch.nn as nn\n",
    "import bitsandbytes as bnb\n",
    "\n",
    "import datasets\n",
    "from datasets import load_dataset, load_from_disk\n",
    "from datasets.arrow_dataset import Dataset\n",
    "from evaluate import load\n",
    "\n",
    "from transformers import pipeline\n",
    "from transformers import BitsAndBytesConfig\n",
    "from transformers import AutoModelForCausalLM\n",
    "from transformers.pipelines.pt_utils import KeyDataset\n",
    "\n",
    "import accelerate\n",
    "\n",
    "from tqdm import tqdm\n",
    "\n",
    "import matplotlib.pyplot as plt"
   ]
  },
  {
   "cell_type": "code",
   "execution_count": 148,
   "metadata": {},
   "outputs": [
    {
     "name": "stderr",
     "output_type": "stream",
     "text": [
      "Loading checkpoint shards: 100%|██████████| 2/2 [00:00<00:00,  4.88it/s]\n",
      "Device set to use cuda:0\n"
     ]
    }
   ],
   "source": [
    "judge_model_id = \"meta-llama/Llama-3.2-3B-Instruct\"\n",
    "\n",
    "judge_pipe = pipeline('text-generation', model=judge_model_id, torch_dtype=torch.bfloat16)\n",
    "# LLama 3.2 has multiple eos_token_id. We use the \"128001\"\n",
    "judge_pipe.tokenizer.pad_token_id = judge_pipe.model.config.eos_token_id[0]"
   ]
  },
  {
   "cell_type": "code",
   "execution_count": 149,
   "metadata": {},
   "outputs": [
    {
     "name": "stderr",
     "output_type": "stream",
     "text": [
      "Device set to use cuda:0\n"
     ]
    }
   ],
   "source": [
    "# model_id = \"meta-llama/Llama-3.2-1B\"\n",
    "model_id = \"meta-llama/Llama-3.2-1B-Instruct\"\n",
    "\n",
    "pipe = pipeline('text-generation', model=model_id, torch_dtype=torch.bfloat16)\n",
    "# LLama 3.2 has multiple eos_token_id. We use the \"128001\"\n",
    "pipe.tokenizer.pad_token_id = pipe.model.config.eos_token_id[0]\n",
    "\n",
    "_model = pipe.model\n",
    "_tokenizer = pipe.tokenizer"
   ]
  },
  {
   "cell_type": "code",
   "execution_count": 150,
   "metadata": {},
   "outputs": [
    {
     "name": "stderr",
     "output_type": "stream",
     "text": [
      "`low_cpu_mem_usage` was None, now default to True since model is quantized.\n",
      "Device set to use cuda:0\n"
     ]
    }
   ],
   "source": [
    "quant8_config = BitsAndBytesConfig(load_in_8bit=True, bnb_4bit_compute_dtype=torch.bfloat16)\n",
    "quant8_model = AutoModelForCausalLM.from_pretrained(model_id, quantization_config=quant8_config)\n",
    "quant8_pipe = pipeline('text-generation', model=quant8_model, tokenizer=_tokenizer, torch_dtype='auto')\n",
    "# LLama 3.2 has multiple eos_token_id. We use the \"128001\"\n",
    "quant8_pipe.tokenizer.pad_token_id = quant8_pipe.model.config.eos_token_id[0]"
   ]
  },
  {
   "cell_type": "code",
   "execution_count": 151,
   "metadata": {},
   "outputs": [
    {
     "name": "stderr",
     "output_type": "stream",
     "text": [
      "`low_cpu_mem_usage` was None, now default to True since model is quantized.\n",
      "Device set to use cuda:0\n"
     ]
    }
   ],
   "source": [
    "quant4_config = BitsAndBytesConfig(load_in_4bit=True, bnb_4bit_compute_dtype=torch.bfloat16, bnb_4bit_quant_type='nf4')\n",
    "quant4_model = AutoModelForCausalLM.from_pretrained(model_id, quantization_config=quant4_config)\n",
    "quant4_pipe = pipeline('text-generation', model=quant4_model, tokenizer=_tokenizer, torch_dtype='auto')\n",
    "# LLama 3.2 has multiple eos_token_id. We use the \"128001\"\n",
    "quant4_pipe.tokenizer.pad_token_id = quant4_pipe.model.config.eos_token_id[0]"
   ]
  },
  {
   "cell_type": "code",
   "execution_count": 152,
   "metadata": {},
   "outputs": [
    {
     "name": "stdout",
     "output_type": "stream",
     "text": [
      "LLama 3.2 1B Instruct with bfloat16 uses 2357.13MB of memory\n",
      "LLama 3.2 1B Instruct with bfloat16 and int8 uses 1429.13MB of memory\n",
      "LLama 3.2 1B Instruct with bfloat16 and int4 uses 965.13MB of memory\n"
     ]
    }
   ],
   "source": [
    "llama_1b = sum(param.numel() * param.element_size() for param in _model.parameters()) / (1024 ** 2)\n",
    "llama_1b_int8 = sum(param.numel() * param.element_size() for param in quant8_model.parameters()) /  (1024 ** 2)\n",
    "llama_1b_int4 = sum(param.numel() * param.element_size() for param in quant4_model.parameters()) /  (1024 ** 2)\n",
    "\n",
    "print(f'LLama 3.2 1B Instruct with bfloat16 uses {round(llama_1b, 2)}MB of memory')\n",
    "print(f'LLama 3.2 1B Instruct with bfloat16 and int8 uses {round(llama_1b_int8, 2)}MB of memory')\n",
    "print(f'LLama 3.2 1B Instruct with bfloat16 and int4 uses {round(llama_1b_int4, 2)}MB of memory')"
   ]
  },
  {
   "cell_type": "markdown",
   "metadata": {},
   "source": [
    "## TriviaQA open-ended short-form generation"
   ]
  },
  {
   "cell_type": "code",
   "execution_count": 7,
   "metadata": {},
   "outputs": [],
   "source": [
    "triviqa_dataset = load_dataset('mandarjoshi/trivia_qa', 'unfiltered', split='all')"
   ]
  },
  {
   "cell_type": "code",
   "execution_count": 8,
   "metadata": {},
   "outputs": [],
   "source": [
    "ds_100 = triviqa_dataset.select(range(100))"
   ]
  },
  {
   "cell_type": "code",
   "execution_count": 9,
   "metadata": {},
   "outputs": [],
   "source": [
    "def get_prompt_for_question(question: str) -> list:\n",
    "    \"\"\"\n",
    "    Get prompt in chat format. This includes a system and an user prompt.\n",
    "    \"\"\"\n",
    "    return [\n",
    "        {'role': 'system', 'content': 'You are a chatbot which answers user question in the most concise manner possible.'},\n",
    "        {'role': 'user', 'content': question}\n",
    "    ]"
   ]
  },
  {
   "cell_type": "code",
   "execution_count": 10,
   "metadata": {},
   "outputs": [
    {
     "data": {
      "text/plain": [
       "Dataset({\n",
       "    features: ['question', 'question_id', 'question_source', 'entity_pages', 'search_results', 'answer', 'question_prompt'],\n",
       "    num_rows: 100\n",
       "})"
      ]
     },
     "execution_count": 10,
     "metadata": {},
     "output_type": "execute_result"
    }
   ],
   "source": [
    "ds_100 = ds_100.add_column('question_prompt', column=list(map(get_prompt_for_question, ds_100['question'])))\n",
    "ds_100"
   ]
  },
  {
   "cell_type": "code",
   "execution_count": 11,
   "metadata": {},
   "outputs": [
    {
     "name": "stderr",
     "output_type": "stream",
     "text": [
      "bfloat16: 100%|██████████| 5000/5000 [01:16<00:00, 65.49it/s] \n",
      "int8: 100%|██████████| 5000/5000 [01:15<00:00, 66.43it/s] \n",
      "int4: 100%|██████████| 5000/5000 [01:34<00:00, 52.79it/s] \n"
     ]
    }
   ],
   "source": [
    "# Constrastive search sampling gives only one sample per input, so we sample it multiple times.\n",
    "SAMPLING = 50\n",
    "\n",
    "# Select as per the GPU?\n",
    "MULTIPLIER = 100\n",
    "\n",
    "# params for Constrastive Search Sampling.\n",
    "pipe_kwargs = {\n",
    "    'penalty_alpha': 0.6,\n",
    "    'top_k': 40, # 'top_k': 4,\n",
    "    'max_new_tokens': 128,\n",
    "    'pad_token_id': _tokenizer.pad_token_id,\n",
    "    'batch_size': 5 * MULTIPLIER\n",
    "}\n",
    "\n",
    "del MULTIPLIER\n",
    "\n",
    "# Originally, it's right side, but huggingface throws warning. \n",
    "# \"A decoder-only architecture is being used, but right-padding was detected! For correct generation results, please set `padding_side='left'` when initializing the tokenizer.\"\n",
    "_tokenizer.padding_side = 'left'\n",
    "\n",
    "\n",
    "generations = {\n",
    "    'bfloat16': [],\n",
    "    'int8': [],\n",
    "    'int4': []\n",
    "}\n",
    "\n",
    "# inference_ds = KeyDataset(ds_100.repeat(SAMPLING), key='question')\n",
    "inference_ds = KeyDataset(ds_100.repeat(SAMPLING), key='question_prompt')\n",
    "n = len(inference_ds)\n",
    "\n",
    "with tqdm(total=n, desc='bfloat16') as pbar:\n",
    "    for out in pipe(inference_ds, **pipe_kwargs):\n",
    "        generations['bfloat16'].append(out[0]['generated_text'])\n",
    "\n",
    "        pbar.update()\n",
    "\n",
    "with tqdm(total=n, desc='int8') as pbar:\n",
    "    for out in quant8_pipe(inference_ds, **pipe_kwargs):\n",
    "        generations['int8'].append(out[0]['generated_text'])\n",
    "\n",
    "        pbar.update()\n",
    "\n",
    "with tqdm(total=n, desc='int4') as pbar:\n",
    "    for out in quant4_pipe(inference_ds, **pipe_kwargs):\n",
    "        generations['int4'].append(out[0]['generated_text'])\n",
    "\n",
    "        pbar.update()\n",
    "\n",
    "\n",
    "torch.cuda.empty_cache()"
   ]
  },
  {
   "cell_type": "code",
   "execution_count": 26,
   "metadata": {},
   "outputs": [],
   "source": [
    "def get_prompt_for_verification(question: str, answer: dict, chat_history: list) -> list:\n",
    "    \"\"\"\n",
    "    Get prompt in chat format. This includes a system and an user prompt.\n",
    "    \"\"\"\n",
    "    normalized_value = answer['normalized_value']\n",
    "    response = chat_history[-1]['content']\n",
    "    \n",
    "    return [\n",
    "        {'role': 'system', 'content': 'For the following query give response as True or False, nothing more.'}, # , nothing more\n",
    "        # {'role': 'user', 'content': f'For the question \"{ds_100[0]['question']}\", the correct answer is \"{ds_100[0]['answer']['normalized_value']}\". Does the response \"{responses[0]['generated_text'][-1]['content']} the time was Harry Truman\" the correct answer?'}\n",
    "        # {'role': 'user', 'content': f'Does \"{ds_100[0]['answer']['normalized_value']}\" appears in the following text \"{responses[0]['generated_text'][-1]['content']}\"'}\n",
    "        {'role': 'user', 'content': f'For the question \"{question}\", the correct answer is \"{normalized_value}\". Does the response \"{response}\" fits the correct answer?'}\n",
    "    ]"
   ]
  },
  {
   "cell_type": "code",
   "execution_count": 27,
   "metadata": {},
   "outputs": [
    {
     "data": {
      "text/plain": [
       "Dataset({\n",
       "    features: ['question', 'question_id', 'question_source', 'entity_pages', 'search_results', 'answer', 'question_prompt', 'bfloat16_response', 'bfloat16_verification_prompt', 'int8_response', 'int8_verification_prompt', 'int4_response', 'int4_verification_prompt'],\n",
       "    num_rows: 5000\n",
       "})"
      ]
     },
     "execution_count": 27,
     "metadata": {},
     "output_type": "execute_result"
    }
   ],
   "source": [
    "ds_100_generations = ds_100.repeat(SAMPLING)\n",
    "\n",
    "for key, value in generations.items():\n",
    "    name = f'{key}_response'\n",
    "    ds_100_generations = ds_100_generations.add_column(name, value)\n",
    "    ds_100_generations = ds_100_generations.add_column(f'{key}_verification_prompt', column=list(map(get_prompt_for_verification, \n",
    "                                                                                                       ds_100_generations['question'], \n",
    "                                                                                                       ds_100_generations['answer'],\n",
    "                                                                                                       ds_100_generations[name])))\n",
    "\n",
    "ds_100_generations"
   ]
  },
  {
   "cell_type": "markdown",
   "metadata": {},
   "source": [
    "## Evaluating responses on \"Correctness\" as seen by a judge model."
   ]
  },
  {
   "cell_type": "code",
   "execution_count": 31,
   "metadata": {},
   "outputs": [
    {
     "name": "stderr",
     "output_type": "stream",
     "text": [
      "bfloat16_verification: 100%|██████████| 125000/125000 [21:10<00:00, 98.39it/s]   \n",
      "int8_verification: 100%|██████████| 125000/125000 [20:43<00:00, 100.53it/s]  \n",
      "int4_verification: 100%|██████████| 125000/125000 [23:16<00:00, 89.52it/s]   \n"
     ]
    }
   ],
   "source": [
    "# Select as per the GPU?\n",
    "MULTIPLIER = 35\n",
    "\n",
    "# params for Judge, no specific sampling methodology. LLama 3.2 3B follows the instructions quite well.\n",
    "verification_pipe_kwargs = {\n",
    "    # 'penalty_alpha': 0.6,\n",
    "    # 'top_k': 40, # 'top_k': 4,\n",
    "    # 'max_new_tokens': 128,\n",
    "    'pad_token_id': _tokenizer.pad_token_id,\n",
    "    'batch_size': 5 * MULTIPLIER\n",
    "}\n",
    "\n",
    "del MULTIPLIER\n",
    "\n",
    "# Originally, it's right side, but huggingface throws warning. \n",
    "# \"A decoder-only architecture is being used, but right-padding was detected! For correct generation results, please set `padding_side='left'` when initializing the tokenizer.\"\n",
    "# _tokenizer.padding_side = 'left'\n",
    "judge_pipe.tokenizer.padding_side = 'left'\n",
    "\n",
    "verifications = {\n",
    "    'bfloat16': [],\n",
    "    'int8': [],\n",
    "    'int4': []\n",
    "}\n",
    "\n",
    "torch.cuda.empty_cache()\n",
    "\n",
    "# We ask the judge multiple times and accumulate \"True\" or \"False\".\n",
    "VERIFICATION_SAMPLES = 25\n",
    "# VERIFICATION_SAMPLES = 10\n",
    "\n",
    "\n",
    "for key in verifications.keys():\n",
    "    verification_ds = KeyDataset(ds_100_generations.repeat(VERIFICATION_SAMPLES), key=f'{key}_verification_prompt')\n",
    "    n = len(verification_ds)\n",
    "\n",
    "    with tqdm(total=n, desc=f'{key}_verification') as pbar:\n",
    "        for out in judge_pipe(verification_ds, **verification_pipe_kwargs):\n",
    "            verifications[key].append(out[0]['generated_text'])\n",
    "\n",
    "            pbar.update()\n",
    "\n",
    "    torch.cuda.empty_cache()\n",
    "\n",
    "# with tqdm(total=n, desc='bfloat16') as pbar:\n",
    "#     for out in pipe(verification_ds, **pipe_kwargs):\n",
    "#         generations['bfloat16'].append(out[0]['generated_text'])\n",
    "\n",
    "#         pbar.update()\n",
    "\n",
    "# with tqdm(total=n, desc='int8') as pbar:\n",
    "#     for out in quant8_pipe(verification_ds, **pipe_kwargs):\n",
    "#         generations['int8'].append(out[0]['generated_text'])\n",
    "\n",
    "#         pbar.update()\n",
    "\n",
    "# with tqdm(total=n, desc='int4') as pbar:\n",
    "#     for out in quant4_pipe(verification_ds, **pipe_kwargs):\n",
    "#         generations['int4'].append(out[0]['generated_text'])\n",
    "\n",
    "#         pbar.update()\n",
    "\n",
    "\n",
    "# torch.cuda.empty_cache()"
   ]
  },
  {
   "cell_type": "code",
   "execution_count": 29,
   "metadata": {},
   "outputs": [
    {
     "data": {
      "text/plain": [
       "[{'content': 'You are a chatbot which answers user question in the most concise manner possible.',\n",
       "  'role': 'system'},\n",
       " {'content': 'Who was President when the first Peanuts cartoon was published?',\n",
       "  'role': 'user'},\n",
       " {'role': 'assistant',\n",
       "  'content': 'The first Peanuts cartoon was published in 1950. The President at that time was Harry S. Truman.'}]"
      ]
     },
     "execution_count": 29,
     "metadata": {},
     "output_type": "execute_result"
    }
   ],
   "source": [
    "generations['bfloat16'][0]"
   ]
  },
  {
   "cell_type": "code",
   "execution_count": 66,
   "metadata": {},
   "outputs": [
    {
     "name": "stderr",
     "output_type": "stream",
     "text": [
      "Saving the dataset (3/3 shards): 100%|██████████| 5000/5000 [00:00<00:00, 7467.17 examples/s] \n",
      "Saving the dataset (51/51 shards): 100%|██████████| 125000/125000 [00:11<00:00, 11003.23 examples/s]\n"
     ]
    }
   ],
   "source": [
    "ds_100_verifications_25 = ds_100_generations.repeat(VERIFICATION_SAMPLES)\n",
    "\n",
    "for key, value in verifications.items():\n",
    "    name = f'{key}_verification_response'\n",
    "    ds_100_verifications_25 = ds_100_verifications_25.add_column(name, value)\n",
    "\n",
    "ds_100_generations.save_to_disk('ds_100_slice')\n",
    "ds_100_verifications_25.save_to_disk('ds_100_verifications_25_slice')"
   ]
  },
  {
   "cell_type": "code",
   "execution_count": 2,
   "metadata": {},
   "outputs": [
    {
     "data": {
      "application/vnd.jupyter.widget-view+json": {
       "model_id": "9c3a7b3aeb6e47cd8fa44efcbd63ed8f",
       "version_major": 2,
       "version_minor": 0
      },
      "text/plain": [
       "Loading dataset from disk:   0%|          | 0/51 [00:00<?, ?it/s]"
      ]
     },
     "metadata": {},
     "output_type": "display_data"
    }
   ],
   "source": [
    "ds_100_generations = load_from_disk('ds_100_slice')\n",
    "ds_100_verifications_25 = load_from_disk('ds_100_verifications_25_slice')"
   ]
  },
  {
   "cell_type": "markdown",
   "metadata": {},
   "source": [
    "### Resample from tile to repeat (numpy style tile and repeat).\n",
    "example -> [1, 2, 3, 1, 2, 3] to [1, 1, 2, 2, 3, 3]"
   ]
  },
  {
   "cell_type": "code",
   "execution_count": null,
   "metadata": {},
   "outputs": [
    {
     "name": "stdout",
     "output_type": "stream",
     "text": [
      "0.20784000000000002 0.12627533417736614 0.20784 0.40576167192084567\n",
      "0.21407199999999998 0.13406511308598099 0.214072 0.4101770091265477\n",
      "0.124848 0.11362938126518925 0.124848 0.33054648220182287\n"
     ]
    }
   ],
   "source": [
    "for verification_key in ('bfloat16', 'int8', 'int4'): \n",
    "    verification_key = f'{verification_key}_verification_response'\n",
    "    arr = np.array([int(chat[-1]['content'].lower() == 'true') for chat in ds_100_verifications_25[verification_key]])\n",
    "    \n",
    "    # The first two dims are ordered following FIFO strategy to \n",
    "    # balance the 'tile' operations applied on the original 100 questions.\n",
    "    arr = arr.reshape(VERIFICATION_SAMPLES, SAMPLING, -1)\n",
    "    # We average the results over each verification for each sample.\n",
    "    mean_accuracy_per_sample : np.ndarray = arr.mean(axis=0)\n",
    "    # We then average and std over each sample for each question.\n",
    "    accuracy_per_question : np.ndarray = mean_accuracy_per_sample.mean(axis=0)\n",
    "    std_per_question : np.ndarray = mean_accuracy_per_sample.std(axis=0)\n",
    "\n",
    "    mean_accuracy = accuracy_per_question.mean(axis=0)\n",
    "    avg_std = std_per_question.mean(axis=0)\n",
    "\n",
    "    print(mean_accuracy, avg_std, arr.mean(), arr.std())"
   ]
  },
  {
   "cell_type": "code",
   "execution_count": 146,
   "metadata": {},
   "outputs": [],
   "source": [
    "coqa_dataset = load_dataset('stanfordnlp/coqa', split='all')"
   ]
  },
  {
   "cell_type": "code",
   "execution_count": 147,
   "metadata": {},
   "outputs": [
    {
     "data": {
      "text/plain": [
       "Dataset({\n",
       "    features: ['source', 'story', 'questions', 'answers'],\n",
       "    num_rows: 7699\n",
       "})"
      ]
     },
     "execution_count": 147,
     "metadata": {},
     "output_type": "execute_result"
    }
   ],
   "source": [
    "coqa_dataset"
   ]
  },
  {
   "cell_type": "code",
   "execution_count": 145,
   "metadata": {},
   "outputs": [
    {
     "name": "stdout",
     "output_type": "stream",
     "text": [
      "Once upon a time, in a barn near a farm house, there lived a little white kitten named Cotton. Cotton lived high up in a nice warm place above the barn where all of the farmer's horses slept. But Cotton wasn't alone in her little home above the barn, oh no. She shared her hay bed with her mommy and 5 other sisters. All of her sisters were cute and fluffy, like Cotton. But she was the only white one in the bunch. The rest of her sisters were all orange with beautiful white tiger stripes like Cotton's mommy. Being different made Cotton quite sad. She often wished she looked like the rest of her family. So one day, when Cotton found a can of the old farmer's orange paint, she used it to paint herself like them. When her mommy and sisters found her they started laughing. \n",
      "\n",
      "\"What are you doing, Cotton?!\" \n",
      "\n",
      "\"I only wanted to be more like you\". \n",
      "\n",
      "Cotton's mommy rubbed her face on Cotton's and said \"Oh Cotton, but your fur is so pretty and special, like you. We would never want you to be any other way\". And with that, Cotton's mommy picked her up and dropped her into a big bucket of water. When Cotton came out she was herself again. Her sisters licked her face until Cotton's fur was all all dry. \n",
      "\n",
      "\"Don't ever do that again, Cotton!\" they all cried. \"Next time you might mess up that pretty white fur of yours and we wouldn't want that!\" \n",
      "\n",
      "Then Cotton thought, \"I change my mind. I like being special\".\n",
      "********************************************************************************************************************************************************************************************************\n",
      "['What color was Cotton?', 'Where did she live?', 'Did she live alone?', 'Who did she live with?', 'What color were her sisters?', 'Was Cotton happy that she looked different than the rest of her family?', 'What did she do to try to make herself the same color as her sisters?', 'Whose paint was it?', \"What did Cotton's mother and siblings do when they saw her painted orange?\", \"Where did Cotton's mother put her to clean the paint off?\", 'What did the other cats do when Cotton emerged from the bucket of water?', 'Did they want Cotton to change the color of her fur?']\n",
      "********************************************************************************************************************************************************************************************************\n",
      "['white', 'in a barn', 'no', 'with her mommy and 5 sisters', 'orange and white', 'no', 'she painted herself', 'the farmer', 'they started laughing', 'a bucket of water', 'licked her face', 'no']\n",
      "********************************************************************************************************************************************************************************************************\n"
     ]
    }
   ],
   "source": [
    "idx = 0\n",
    "\n",
    "print(coqa_dataset[idx]['story'])\n",
    "print('*' * 200)\n",
    "print(coqa_dataset[idx]['questions'])\n",
    "print('*' * 200)\n",
    "print(coqa_dataset[idx]['answers']['input_text'])\n",
    "print('*' * 200)"
   ]
  },
  {
   "cell_type": "code",
   "execution_count": 138,
   "metadata": {},
   "outputs": [
    {
     "data": {
      "text/plain": [
       "7699"
      ]
     },
     "execution_count": 138,
     "metadata": {},
     "output_type": "execute_result"
    }
   ],
   "source": [
    "len(coqa_dataset)"
   ]
  },
  {
   "cell_type": "code",
   "execution_count": 137,
   "metadata": {},
   "outputs": [
    {
     "name": "stdout",
     "output_type": "stream",
     "text": [
      "20\n",
      "20\n"
     ]
    }
   ],
   "source": [
    "print(len(coqa_dataset[0]['questions']))\n",
    "print(len(coqa_dataset[0]['answers']['input_text']))"
   ]
  },
  {
   "cell_type": "code",
   "execution_count": null,
   "metadata": {},
   "outputs": [],
   "source": [
    "coqa_dataset[0]['story']"
   ]
  },
  {
   "cell_type": "code",
   "execution_count": 153,
   "metadata": {},
   "outputs": [],
   "source": [
    "def get_prompt_for_coqa_question(context: str, question: str) -> list:\n",
    "    \"\"\"\n",
    "    Get prompt for CoQA in chat format. This includes a system and an user prompt.\n",
    "    \"\"\"\n",
    "    return [\n",
    "        {'role': 'system', 'content': f'You are a chatbot which answers user question in the most concise manner possible from given context, \"{context}\"'},\n",
    "        {'role': 'user', 'content': question}\n",
    "    ]"
   ]
  },
  {
   "cell_type": "code",
   "execution_count": 155,
   "metadata": {},
   "outputs": [
    {
     "data": {
      "text/plain": [
       "[{'role': 'system',\n",
       "  'content': 'You are a chatbot which answers user question in the most concise manner possible from given context, \"The Vatican Apostolic Library (), more commonly called the Vatican Library or simply the Vat, is the library of the Holy See, located in Vatican City. Formally established in 1475, although it is much older, it is one of the oldest libraries in the world and contains one of the most significant collections of historical texts. It has 75,000 codices from throughout history, as well as 1.1 million printed books, which include some 8,500 incunabula. \\n\\nThe Vatican Library is a research library for history, law, philosophy, science and theology. The Vatican Library is open to anyone who can document their qualifications and research needs. Photocopies for private study of pages from books published between 1801 and 1990 can be requested in person or by mail. \\n\\nIn March 2014, the Vatican Library began an initial four-year project of digitising its collection of manuscripts, to be made available online. \\n\\nThe Vatican Secret Archives were separated from the library at the beginning of the 17th century; they contain another 150,000 items. \\n\\nScholars have traditionally divided the history of the library into five periods, Pre-Lateran, Lateran, Avignon, Pre-Vatican and Vatican. \\n\\nThe Pre-Lateran period, comprising the initial days of the library, dated from the earliest days of the Church. Only a handful of volumes survive from this period, though some are very significant.\"'},\n",
       " {'role': 'user', 'content': 'When was the Vat formally opened?'}]"
      ]
     },
     "execution_count": 155,
     "metadata": {},
     "output_type": "execute_result"
    }
   ],
   "source": [
    "get_prompt_for_coqa_question(coqa_dataset[0]['story'], coqa_dataset[0]['questions'][0])"
   ]
  },
  {
   "cell_type": "code",
   "execution_count": 158,
   "metadata": {},
   "outputs": [
    {
     "data": {
      "text/plain": [
       "'It was formally established in 1475'"
      ]
     },
     "execution_count": 158,
     "metadata": {},
     "output_type": "execute_result"
    }
   ],
   "source": [
    "coqa_dataset[0]['answers']['input_text'][0]"
   ]
  },
  {
   "cell_type": "code",
   "execution_count": 159,
   "metadata": {},
   "outputs": [
    {
     "data": {
      "text/plain": [
       "[{'generated_text': [{'role': 'system',\n",
       "    'content': 'You are a chatbot which answers user question in the most concise manner possible from given context, \"The Vatican Apostolic Library (), more commonly called the Vatican Library or simply the Vat, is the library of the Holy See, located in Vatican City. Formally established in 1475, although it is much older, it is one of the oldest libraries in the world and contains one of the most significant collections of historical texts. It has 75,000 codices from throughout history, as well as 1.1 million printed books, which include some 8,500 incunabula. \\n\\nThe Vatican Library is a research library for history, law, philosophy, science and theology. The Vatican Library is open to anyone who can document their qualifications and research needs. Photocopies for private study of pages from books published between 1801 and 1990 can be requested in person or by mail. \\n\\nIn March 2014, the Vatican Library began an initial four-year project of digitising its collection of manuscripts, to be made available online. \\n\\nThe Vatican Secret Archives were separated from the library at the beginning of the 17th century; they contain another 150,000 items. \\n\\nScholars have traditionally divided the history of the library into five periods, Pre-Lateran, Lateran, Avignon, Pre-Vatican and Vatican. \\n\\nThe Pre-Lateran period, comprising the initial days of the library, dated from the earliest days of the Church. Only a handful of volumes survive from this period, though some are very significant.\"'},\n",
       "   {'role': 'user', 'content': 'When was the Vat formally opened?'},\n",
       "   {'role': 'assistant',\n",
       "    'content': 'The Vatican Apostolic Library was formally established in 1475.'}]}]"
      ]
     },
     "execution_count": 159,
     "metadata": {},
     "output_type": "execute_result"
    }
   ],
   "source": [
    "pipe_kwargs = {\n",
    "    'penalty_alpha': 0.6,\n",
    "    'top_k': 40, # 'top_k': 4,\n",
    "    'max_new_tokens': 128,\n",
    "    'pad_token_id': _tokenizer.pad_token_id,\n",
    "    # 'batch_size': 5 * MULTIPLIER\n",
    "}\n",
    "\n",
    "pipe(get_prompt_for_coqa_question(coqa_dataset[0]['story'], coqa_dataset[0]['questions'][0]), pad_token_id= _tokenizer.pad_token_id)"
   ]
  },
  {
   "cell_type": "code",
   "execution_count": 65,
   "metadata": {},
   "outputs": [
    {
     "name": "stdout",
     "output_type": "stream",
     "text": [
      "Accuracy is 0.513%\n"
     ]
    }
   ],
   "source": [
    "final_accuracy = 0.0\n",
    "\n",
    "for sample_question_idx in range(SAMPLING):\n",
    "    accuracy = 0.0\n",
    "\n",
    "    # Idx from the 50 * 100 questions.\n",
    "    # starting_idx = 1 + 100 * 49\n",
    "    original_question_idx = 0 \n",
    "    # sample_question_idx = 1\n",
    "    starting_idx = original_question_idx + 100 * sample_question_idx\n",
    "    for idx in range(starting_idx, n, len(ds_100_generations)):\n",
    "        item = verifications['bfloat16'][idx]\n",
    "        # print(item)\n",
    "        accuracy += int(item[-1]['content'].lower() == 'true')\n",
    "\n",
    "    # print('*' * 15)\n",
    "    # print(f'Accuracy is {(accuracy / count):.3f}%')\n",
    "    final_accuracy += accuracy / VERIFICATION_SAMPLES\n",
    "\n",
    "print(f'Accuracy is {(final_accuracy / SAMPLING):.3f}%')"
   ]
  },
  {
   "cell_type": "code",
   "execution_count": 41,
   "metadata": {},
   "outputs": [
    {
     "data": {
      "text/plain": [
       "25"
      ]
     },
     "execution_count": 41,
     "metadata": {},
     "output_type": "execute_result"
    }
   ],
   "source": [
    "len(range(starting_idx, n, len(ds_100_generations)))"
   ]
  },
  {
   "cell_type": "code",
   "execution_count": 32,
   "metadata": {},
   "outputs": [
    {
     "data": {
      "text/plain": [
       "[{'content': 'For the following query give response as True or False, nothing more.',\n",
       "  'role': 'system'},\n",
       " {'content': 'For the question \"Who was President when the first Peanuts cartoon was published?\", the correct answer is \"harry truman\". Does the response \"The first Peanuts cartoon was published in 1950. The President at that time was Harry S. Truman.\" fits the correct answer?',\n",
       "  'role': 'user'},\n",
       " {'role': 'assistant', 'content': 'False'}]"
      ]
     },
     "execution_count": 32,
     "metadata": {},
     "output_type": "execute_result"
    }
   ],
   "source": [
    "verifications['bfloat16'][0]"
   ]
  },
  {
   "cell_type": "code",
   "execution_count": 84,
   "metadata": {},
   "outputs": [],
   "source": [
    "def verify_response_via_judge_model(ds: Dataset, idx: int, verification_samples: int = 25) -> list:\n",
    "    row = ds[idx]\n",
    "    question = row['question']\n",
    "    normalized_answer = row['answer']['normalized_value']\n",
    "\n",
    "    response_types = ['bfloat16_response', 'int8_response', 'int4_response']\n",
    "\n",
    "    response_accuracies = []\n",
    "\n",
    "    for key in response_types:\n",
    "        response = row[key]\n",
    "        # response = row[key].removeprefix(question)\n",
    "        # print(f'Question: {question}')\n",
    "        # print(f'Response: {response}')\n",
    "\n",
    "        response_item = [\n",
    "            {'role': 'system', 'content': 'For the following query give response as True or False, nothing more.'},\n",
    "            # {'role': 'user', 'content': f'Does \"{ds_100[0]['answer']['normalized_value']}\" appears in the following text \"{responses[0]['generated_text'][-1]['content']}\"'}\n",
    "            {'role': 'user', 'content': f'For the question \"{question}\", the correct answer is \"{normalized_answer}\". Does the response \"{response}\" fits the correct answer?'}\n",
    "        ]\n",
    "\n",
    "        verification_responses = judge_pipe([response_item] * verification_samples, pad_token_id = _tokenizer.pad_token_id)\n",
    "\n",
    "        print(json.dumps(verification_responses, indent=4))\n",
    "\n",
    "        accuracy_score = sum(int(veri_response[0]['generated_text'][-1]['content'].lower() == 'true') for veri_response in verification_responses) / verification_samples\n",
    "        response_accuracies.append(accuracy_score)\n",
    "\n",
    "    return response_accuracies"
   ]
  },
  {
   "cell_type": "code",
   "execution_count": 86,
   "metadata": {},
   "outputs": [
    {
     "name": "stdout",
     "output_type": "stream",
     "text": [
      "[\n",
      "    [\n",
      "        {\n",
      "            \"generated_text\": [\n",
      "                {\n",
      "                    \"role\": \"system\",\n",
      "                    \"content\": \"For the following query give response as True or False, nothing more.\"\n",
      "                },\n",
      "                {\n",
      "                    \"role\": \"user\",\n",
      "                    \"content\": \"For the question \\\"Which American-born Sinclair won the Nobel Prize for Literature in 1930?\\\", the correct answer is \\\"sinclair lewis\\\". Does the response \\\"Which American-born Sinclair won the Nobel Prize for Literature in 1930? Sinclair Lewis\\n\\n## Step 1: Identify the American-born author mentioned in the problem.\\nThe problem mentions an American-born author.\\n\\n## Step 2: Recall the list of authors who have won the Nobel Prize for Literature.\\nThe list of authors who have won the Nobel Prize for Literature includes past winners such as William Faulkner, Ernest Hemingway, John Steinbeck, Gabriel Garcia Marquez, and Toni Morrison, among others.\\n\\n## Step 3: Identify the correct American-born author from the list.\\nAmong the past winners, William Faulkner is the American-born author who won the Nobel Prize for Literature in 1949\\\" fits the correct answer?\"\n",
      "                },\n",
      "                {\n",
      "                    \"role\": \"assistant\",\n",
      "                    \"content\": \"False\"\n",
      "                }\n",
      "            ]\n",
      "        }\n",
      "    ],\n",
      "    [\n",
      "        {\n",
      "            \"generated_text\": [\n",
      "                {\n",
      "                    \"role\": \"system\",\n",
      "                    \"content\": \"For the following query give response as True or False, nothing more.\"\n",
      "                },\n",
      "                {\n",
      "                    \"role\": \"user\",\n",
      "                    \"content\": \"For the question \\\"Which American-born Sinclair won the Nobel Prize for Literature in 1930?\\\", the correct answer is \\\"sinclair lewis\\\". Does the response \\\"Which American-born Sinclair won the Nobel Prize for Literature in 1930? Sinclair Lewis\\n\\n## Step 1: Identify the American-born author mentioned in the problem.\\nThe problem mentions an American-born author.\\n\\n## Step 2: Recall the list of authors who have won the Nobel Prize for Literature.\\nThe list of authors who have won the Nobel Prize for Literature includes past winners such as William Faulkner, Ernest Hemingway, John Steinbeck, Gabriel Garcia Marquez, and Toni Morrison, among others.\\n\\n## Step 3: Identify the correct American-born author from the list.\\nAmong the past winners, William Faulkner is the American-born author who won the Nobel Prize for Literature in 1949\\\" fits the correct answer?\"\n",
      "                },\n",
      "                {\n",
      "                    \"role\": \"assistant\",\n",
      "                    \"content\": \"False\"\n",
      "                }\n",
      "            ]\n",
      "        }\n",
      "    ],\n",
      "    [\n",
      "        {\n",
      "            \"generated_text\": [\n",
      "                {\n",
      "                    \"role\": \"system\",\n",
      "                    \"content\": \"For the following query give response as True or False, nothing more.\"\n",
      "                },\n",
      "                {\n",
      "                    \"role\": \"user\",\n",
      "                    \"content\": \"For the question \\\"Which American-born Sinclair won the Nobel Prize for Literature in 1930?\\\", the correct answer is \\\"sinclair lewis\\\". Does the response \\\"Which American-born Sinclair won the Nobel Prize for Literature in 1930? Sinclair Lewis\\n\\n## Step 1: Identify the American-born author mentioned in the problem.\\nThe problem mentions an American-born author.\\n\\n## Step 2: Recall the list of authors who have won the Nobel Prize for Literature.\\nThe list of authors who have won the Nobel Prize for Literature includes past winners such as William Faulkner, Ernest Hemingway, John Steinbeck, Gabriel Garcia Marquez, and Toni Morrison, among others.\\n\\n## Step 3: Identify the correct American-born author from the list.\\nAmong the past winners, William Faulkner is the American-born author who won the Nobel Prize for Literature in 1949\\\" fits the correct answer?\"\n",
      "                },\n",
      "                {\n",
      "                    \"role\": \"assistant\",\n",
      "                    \"content\": \"False\"\n",
      "                }\n",
      "            ]\n",
      "        }\n",
      "    ],\n",
      "    [\n",
      "        {\n",
      "            \"generated_text\": [\n",
      "                {\n",
      "                    \"role\": \"system\",\n",
      "                    \"content\": \"For the following query give response as True or False, nothing more.\"\n",
      "                },\n",
      "                {\n",
      "                    \"role\": \"user\",\n",
      "                    \"content\": \"For the question \\\"Which American-born Sinclair won the Nobel Prize for Literature in 1930?\\\", the correct answer is \\\"sinclair lewis\\\". Does the response \\\"Which American-born Sinclair won the Nobel Prize for Literature in 1930? Sinclair Lewis\\n\\n## Step 1: Identify the American-born author mentioned in the problem.\\nThe problem mentions an American-born author.\\n\\n## Step 2: Recall the list of authors who have won the Nobel Prize for Literature.\\nThe list of authors who have won the Nobel Prize for Literature includes past winners such as William Faulkner, Ernest Hemingway, John Steinbeck, Gabriel Garcia Marquez, and Toni Morrison, among others.\\n\\n## Step 3: Identify the correct American-born author from the list.\\nAmong the past winners, William Faulkner is the American-born author who won the Nobel Prize for Literature in 1949\\\" fits the correct answer?\"\n",
      "                },\n",
      "                {\n",
      "                    \"role\": \"assistant\",\n",
      "                    \"content\": \"False\"\n",
      "                }\n",
      "            ]\n",
      "        }\n",
      "    ],\n",
      "    [\n",
      "        {\n",
      "            \"generated_text\": [\n",
      "                {\n",
      "                    \"role\": \"system\",\n",
      "                    \"content\": \"For the following query give response as True or False, nothing more.\"\n",
      "                },\n",
      "                {\n",
      "                    \"role\": \"user\",\n",
      "                    \"content\": \"For the question \\\"Which American-born Sinclair won the Nobel Prize for Literature in 1930?\\\", the correct answer is \\\"sinclair lewis\\\". Does the response \\\"Which American-born Sinclair won the Nobel Prize for Literature in 1930? Sinclair Lewis\\n\\n## Step 1: Identify the American-born author mentioned in the problem.\\nThe problem mentions an American-born author.\\n\\n## Step 2: Recall the list of authors who have won the Nobel Prize for Literature.\\nThe list of authors who have won the Nobel Prize for Literature includes past winners such as William Faulkner, Ernest Hemingway, John Steinbeck, Gabriel Garcia Marquez, and Toni Morrison, among others.\\n\\n## Step 3: Identify the correct American-born author from the list.\\nAmong the past winners, William Faulkner is the American-born author who won the Nobel Prize for Literature in 1949\\\" fits the correct answer?\"\n",
      "                },\n",
      "                {\n",
      "                    \"role\": \"assistant\",\n",
      "                    \"content\": \"False\"\n",
      "                }\n",
      "            ]\n",
      "        }\n",
      "    ],\n",
      "    [\n",
      "        {\n",
      "            \"generated_text\": [\n",
      "                {\n",
      "                    \"role\": \"system\",\n",
      "                    \"content\": \"For the following query give response as True or False, nothing more.\"\n",
      "                },\n",
      "                {\n",
      "                    \"role\": \"user\",\n",
      "                    \"content\": \"For the question \\\"Which American-born Sinclair won the Nobel Prize for Literature in 1930?\\\", the correct answer is \\\"sinclair lewis\\\". Does the response \\\"Which American-born Sinclair won the Nobel Prize for Literature in 1930? Sinclair Lewis\\n\\n## Step 1: Identify the American-born author mentioned in the problem.\\nThe problem mentions an American-born author.\\n\\n## Step 2: Recall the list of authors who have won the Nobel Prize for Literature.\\nThe list of authors who have won the Nobel Prize for Literature includes past winners such as William Faulkner, Ernest Hemingway, John Steinbeck, Gabriel Garcia Marquez, and Toni Morrison, among others.\\n\\n## Step 3: Identify the correct American-born author from the list.\\nAmong the past winners, William Faulkner is the American-born author who won the Nobel Prize for Literature in 1949\\\" fits the correct answer?\"\n",
      "                },\n",
      "                {\n",
      "                    \"role\": \"assistant\",\n",
      "                    \"content\": \"False\"\n",
      "                }\n",
      "            ]\n",
      "        }\n",
      "    ],\n",
      "    [\n",
      "        {\n",
      "            \"generated_text\": [\n",
      "                {\n",
      "                    \"role\": \"system\",\n",
      "                    \"content\": \"For the following query give response as True or False, nothing more.\"\n",
      "                },\n",
      "                {\n",
      "                    \"role\": \"user\",\n",
      "                    \"content\": \"For the question \\\"Which American-born Sinclair won the Nobel Prize for Literature in 1930?\\\", the correct answer is \\\"sinclair lewis\\\". Does the response \\\"Which American-born Sinclair won the Nobel Prize for Literature in 1930? Sinclair Lewis\\n\\n## Step 1: Identify the American-born author mentioned in the problem.\\nThe problem mentions an American-born author.\\n\\n## Step 2: Recall the list of authors who have won the Nobel Prize for Literature.\\nThe list of authors who have won the Nobel Prize for Literature includes past winners such as William Faulkner, Ernest Hemingway, John Steinbeck, Gabriel Garcia Marquez, and Toni Morrison, among others.\\n\\n## Step 3: Identify the correct American-born author from the list.\\nAmong the past winners, William Faulkner is the American-born author who won the Nobel Prize for Literature in 1949\\\" fits the correct answer?\"\n",
      "                },\n",
      "                {\n",
      "                    \"role\": \"assistant\",\n",
      "                    \"content\": \"False\"\n",
      "                }\n",
      "            ]\n",
      "        }\n",
      "    ],\n",
      "    [\n",
      "        {\n",
      "            \"generated_text\": [\n",
      "                {\n",
      "                    \"role\": \"system\",\n",
      "                    \"content\": \"For the following query give response as True or False, nothing more.\"\n",
      "                },\n",
      "                {\n",
      "                    \"role\": \"user\",\n",
      "                    \"content\": \"For the question \\\"Which American-born Sinclair won the Nobel Prize for Literature in 1930?\\\", the correct answer is \\\"sinclair lewis\\\". Does the response \\\"Which American-born Sinclair won the Nobel Prize for Literature in 1930? Sinclair Lewis\\n\\n## Step 1: Identify the American-born author mentioned in the problem.\\nThe problem mentions an American-born author.\\n\\n## Step 2: Recall the list of authors who have won the Nobel Prize for Literature.\\nThe list of authors who have won the Nobel Prize for Literature includes past winners such as William Faulkner, Ernest Hemingway, John Steinbeck, Gabriel Garcia Marquez, and Toni Morrison, among others.\\n\\n## Step 3: Identify the correct American-born author from the list.\\nAmong the past winners, William Faulkner is the American-born author who won the Nobel Prize for Literature in 1949\\\" fits the correct answer?\"\n",
      "                },\n",
      "                {\n",
      "                    \"role\": \"assistant\",\n",
      "                    \"content\": \"False\"\n",
      "                }\n",
      "            ]\n",
      "        }\n",
      "    ],\n",
      "    [\n",
      "        {\n",
      "            \"generated_text\": [\n",
      "                {\n",
      "                    \"role\": \"system\",\n",
      "                    \"content\": \"For the following query give response as True or False, nothing more.\"\n",
      "                },\n",
      "                {\n",
      "                    \"role\": \"user\",\n",
      "                    \"content\": \"For the question \\\"Which American-born Sinclair won the Nobel Prize for Literature in 1930?\\\", the correct answer is \\\"sinclair lewis\\\". Does the response \\\"Which American-born Sinclair won the Nobel Prize for Literature in 1930? Sinclair Lewis\\n\\n## Step 1: Identify the American-born author mentioned in the problem.\\nThe problem mentions an American-born author.\\n\\n## Step 2: Recall the list of authors who have won the Nobel Prize for Literature.\\nThe list of authors who have won the Nobel Prize for Literature includes past winners such as William Faulkner, Ernest Hemingway, John Steinbeck, Gabriel Garcia Marquez, and Toni Morrison, among others.\\n\\n## Step 3: Identify the correct American-born author from the list.\\nAmong the past winners, William Faulkner is the American-born author who won the Nobel Prize for Literature in 1949\\\" fits the correct answer?\"\n",
      "                },\n",
      "                {\n",
      "                    \"role\": \"assistant\",\n",
      "                    \"content\": \"False\"\n",
      "                }\n",
      "            ]\n",
      "        }\n",
      "    ],\n",
      "    [\n",
      "        {\n",
      "            \"generated_text\": [\n",
      "                {\n",
      "                    \"role\": \"system\",\n",
      "                    \"content\": \"For the following query give response as True or False, nothing more.\"\n",
      "                },\n",
      "                {\n",
      "                    \"role\": \"user\",\n",
      "                    \"content\": \"For the question \\\"Which American-born Sinclair won the Nobel Prize for Literature in 1930?\\\", the correct answer is \\\"sinclair lewis\\\". Does the response \\\"Which American-born Sinclair won the Nobel Prize for Literature in 1930? Sinclair Lewis\\n\\n## Step 1: Identify the American-born author mentioned in the problem.\\nThe problem mentions an American-born author.\\n\\n## Step 2: Recall the list of authors who have won the Nobel Prize for Literature.\\nThe list of authors who have won the Nobel Prize for Literature includes past winners such as William Faulkner, Ernest Hemingway, John Steinbeck, Gabriel Garcia Marquez, and Toni Morrison, among others.\\n\\n## Step 3: Identify the correct American-born author from the list.\\nAmong the past winners, William Faulkner is the American-born author who won the Nobel Prize for Literature in 1949\\\" fits the correct answer?\"\n",
      "                },\n",
      "                {\n",
      "                    \"role\": \"assistant\",\n",
      "                    \"content\": \"False\"\n",
      "                }\n",
      "            ]\n",
      "        }\n",
      "    ],\n",
      "    [\n",
      "        {\n",
      "            \"generated_text\": [\n",
      "                {\n",
      "                    \"role\": \"system\",\n",
      "                    \"content\": \"For the following query give response as True or False, nothing more.\"\n",
      "                },\n",
      "                {\n",
      "                    \"role\": \"user\",\n",
      "                    \"content\": \"For the question \\\"Which American-born Sinclair won the Nobel Prize for Literature in 1930?\\\", the correct answer is \\\"sinclair lewis\\\". Does the response \\\"Which American-born Sinclair won the Nobel Prize for Literature in 1930? Sinclair Lewis\\n\\n## Step 1: Identify the American-born author mentioned in the problem.\\nThe problem mentions an American-born author.\\n\\n## Step 2: Recall the list of authors who have won the Nobel Prize for Literature.\\nThe list of authors who have won the Nobel Prize for Literature includes past winners such as William Faulkner, Ernest Hemingway, John Steinbeck, Gabriel Garcia Marquez, and Toni Morrison, among others.\\n\\n## Step 3: Identify the correct American-born author from the list.\\nAmong the past winners, William Faulkner is the American-born author who won the Nobel Prize for Literature in 1949\\\" fits the correct answer?\"\n",
      "                },\n",
      "                {\n",
      "                    \"role\": \"assistant\",\n",
      "                    \"content\": \"False\"\n",
      "                }\n",
      "            ]\n",
      "        }\n",
      "    ],\n",
      "    [\n",
      "        {\n",
      "            \"generated_text\": [\n",
      "                {\n",
      "                    \"role\": \"system\",\n",
      "                    \"content\": \"For the following query give response as True or False, nothing more.\"\n",
      "                },\n",
      "                {\n",
      "                    \"role\": \"user\",\n",
      "                    \"content\": \"For the question \\\"Which American-born Sinclair won the Nobel Prize for Literature in 1930?\\\", the correct answer is \\\"sinclair lewis\\\". Does the response \\\"Which American-born Sinclair won the Nobel Prize for Literature in 1930? Sinclair Lewis\\n\\n## Step 1: Identify the American-born author mentioned in the problem.\\nThe problem mentions an American-born author.\\n\\n## Step 2: Recall the list of authors who have won the Nobel Prize for Literature.\\nThe list of authors who have won the Nobel Prize for Literature includes past winners such as William Faulkner, Ernest Hemingway, John Steinbeck, Gabriel Garcia Marquez, and Toni Morrison, among others.\\n\\n## Step 3: Identify the correct American-born author from the list.\\nAmong the past winners, William Faulkner is the American-born author who won the Nobel Prize for Literature in 1949\\\" fits the correct answer?\"\n",
      "                },\n",
      "                {\n",
      "                    \"role\": \"assistant\",\n",
      "                    \"content\": \"False\"\n",
      "                }\n",
      "            ]\n",
      "        }\n",
      "    ],\n",
      "    [\n",
      "        {\n",
      "            \"generated_text\": [\n",
      "                {\n",
      "                    \"role\": \"system\",\n",
      "                    \"content\": \"For the following query give response as True or False, nothing more.\"\n",
      "                },\n",
      "                {\n",
      "                    \"role\": \"user\",\n",
      "                    \"content\": \"For the question \\\"Which American-born Sinclair won the Nobel Prize for Literature in 1930?\\\", the correct answer is \\\"sinclair lewis\\\". Does the response \\\"Which American-born Sinclair won the Nobel Prize for Literature in 1930? Sinclair Lewis\\n\\n## Step 1: Identify the American-born author mentioned in the problem.\\nThe problem mentions an American-born author.\\n\\n## Step 2: Recall the list of authors who have won the Nobel Prize for Literature.\\nThe list of authors who have won the Nobel Prize for Literature includes past winners such as William Faulkner, Ernest Hemingway, John Steinbeck, Gabriel Garcia Marquez, and Toni Morrison, among others.\\n\\n## Step 3: Identify the correct American-born author from the list.\\nAmong the past winners, William Faulkner is the American-born author who won the Nobel Prize for Literature in 1949\\\" fits the correct answer?\"\n",
      "                },\n",
      "                {\n",
      "                    \"role\": \"assistant\",\n",
      "                    \"content\": \"False\"\n",
      "                }\n",
      "            ]\n",
      "        }\n",
      "    ],\n",
      "    [\n",
      "        {\n",
      "            \"generated_text\": [\n",
      "                {\n",
      "                    \"role\": \"system\",\n",
      "                    \"content\": \"For the following query give response as True or False, nothing more.\"\n",
      "                },\n",
      "                {\n",
      "                    \"role\": \"user\",\n",
      "                    \"content\": \"For the question \\\"Which American-born Sinclair won the Nobel Prize for Literature in 1930?\\\", the correct answer is \\\"sinclair lewis\\\". Does the response \\\"Which American-born Sinclair won the Nobel Prize for Literature in 1930? Sinclair Lewis\\n\\n## Step 1: Identify the American-born author mentioned in the problem.\\nThe problem mentions an American-born author.\\n\\n## Step 2: Recall the list of authors who have won the Nobel Prize for Literature.\\nThe list of authors who have won the Nobel Prize for Literature includes past winners such as William Faulkner, Ernest Hemingway, John Steinbeck, Gabriel Garcia Marquez, and Toni Morrison, among others.\\n\\n## Step 3: Identify the correct American-born author from the list.\\nAmong the past winners, William Faulkner is the American-born author who won the Nobel Prize for Literature in 1949\\\" fits the correct answer?\"\n",
      "                },\n",
      "                {\n",
      "                    \"role\": \"assistant\",\n",
      "                    \"content\": \"False\"\n",
      "                }\n",
      "            ]\n",
      "        }\n",
      "    ],\n",
      "    [\n",
      "        {\n",
      "            \"generated_text\": [\n",
      "                {\n",
      "                    \"role\": \"system\",\n",
      "                    \"content\": \"For the following query give response as True or False, nothing more.\"\n",
      "                },\n",
      "                {\n",
      "                    \"role\": \"user\",\n",
      "                    \"content\": \"For the question \\\"Which American-born Sinclair won the Nobel Prize for Literature in 1930?\\\", the correct answer is \\\"sinclair lewis\\\". Does the response \\\"Which American-born Sinclair won the Nobel Prize for Literature in 1930? Sinclair Lewis\\n\\n## Step 1: Identify the American-born author mentioned in the problem.\\nThe problem mentions an American-born author.\\n\\n## Step 2: Recall the list of authors who have won the Nobel Prize for Literature.\\nThe list of authors who have won the Nobel Prize for Literature includes past winners such as William Faulkner, Ernest Hemingway, John Steinbeck, Gabriel Garcia Marquez, and Toni Morrison, among others.\\n\\n## Step 3: Identify the correct American-born author from the list.\\nAmong the past winners, William Faulkner is the American-born author who won the Nobel Prize for Literature in 1949\\\" fits the correct answer?\"\n",
      "                },\n",
      "                {\n",
      "                    \"role\": \"assistant\",\n",
      "                    \"content\": \"False\"\n",
      "                }\n",
      "            ]\n",
      "        }\n",
      "    ],\n",
      "    [\n",
      "        {\n",
      "            \"generated_text\": [\n",
      "                {\n",
      "                    \"role\": \"system\",\n",
      "                    \"content\": \"For the following query give response as True or False, nothing more.\"\n",
      "                },\n",
      "                {\n",
      "                    \"role\": \"user\",\n",
      "                    \"content\": \"For the question \\\"Which American-born Sinclair won the Nobel Prize for Literature in 1930?\\\", the correct answer is \\\"sinclair lewis\\\". Does the response \\\"Which American-born Sinclair won the Nobel Prize for Literature in 1930? Sinclair Lewis\\n\\n## Step 1: Identify the American-born author mentioned in the problem.\\nThe problem mentions an American-born author.\\n\\n## Step 2: Recall the list of authors who have won the Nobel Prize for Literature.\\nThe list of authors who have won the Nobel Prize for Literature includes past winners such as William Faulkner, Ernest Hemingway, John Steinbeck, Gabriel Garcia Marquez, and Toni Morrison, among others.\\n\\n## Step 3: Identify the correct American-born author from the list.\\nAmong the past winners, William Faulkner is the American-born author who won the Nobel Prize for Literature in 1949\\\" fits the correct answer?\"\n",
      "                },\n",
      "                {\n",
      "                    \"role\": \"assistant\",\n",
      "                    \"content\": \"False\"\n",
      "                }\n",
      "            ]\n",
      "        }\n",
      "    ],\n",
      "    [\n",
      "        {\n",
      "            \"generated_text\": [\n",
      "                {\n",
      "                    \"role\": \"system\",\n",
      "                    \"content\": \"For the following query give response as True or False, nothing more.\"\n",
      "                },\n",
      "                {\n",
      "                    \"role\": \"user\",\n",
      "                    \"content\": \"For the question \\\"Which American-born Sinclair won the Nobel Prize for Literature in 1930?\\\", the correct answer is \\\"sinclair lewis\\\". Does the response \\\"Which American-born Sinclair won the Nobel Prize for Literature in 1930? Sinclair Lewis\\n\\n## Step 1: Identify the American-born author mentioned in the problem.\\nThe problem mentions an American-born author.\\n\\n## Step 2: Recall the list of authors who have won the Nobel Prize for Literature.\\nThe list of authors who have won the Nobel Prize for Literature includes past winners such as William Faulkner, Ernest Hemingway, John Steinbeck, Gabriel Garcia Marquez, and Toni Morrison, among others.\\n\\n## Step 3: Identify the correct American-born author from the list.\\nAmong the past winners, William Faulkner is the American-born author who won the Nobel Prize for Literature in 1949\\\" fits the correct answer?\"\n",
      "                },\n",
      "                {\n",
      "                    \"role\": \"assistant\",\n",
      "                    \"content\": \"False\"\n",
      "                }\n",
      "            ]\n",
      "        }\n",
      "    ],\n",
      "    [\n",
      "        {\n",
      "            \"generated_text\": [\n",
      "                {\n",
      "                    \"role\": \"system\",\n",
      "                    \"content\": \"For the following query give response as True or False, nothing more.\"\n",
      "                },\n",
      "                {\n",
      "                    \"role\": \"user\",\n",
      "                    \"content\": \"For the question \\\"Which American-born Sinclair won the Nobel Prize for Literature in 1930?\\\", the correct answer is \\\"sinclair lewis\\\". Does the response \\\"Which American-born Sinclair won the Nobel Prize for Literature in 1930? Sinclair Lewis\\n\\n## Step 1: Identify the American-born author mentioned in the problem.\\nThe problem mentions an American-born author.\\n\\n## Step 2: Recall the list of authors who have won the Nobel Prize for Literature.\\nThe list of authors who have won the Nobel Prize for Literature includes past winners such as William Faulkner, Ernest Hemingway, John Steinbeck, Gabriel Garcia Marquez, and Toni Morrison, among others.\\n\\n## Step 3: Identify the correct American-born author from the list.\\nAmong the past winners, William Faulkner is the American-born author who won the Nobel Prize for Literature in 1949\\\" fits the correct answer?\"\n",
      "                },\n",
      "                {\n",
      "                    \"role\": \"assistant\",\n",
      "                    \"content\": \"False\"\n",
      "                }\n",
      "            ]\n",
      "        }\n",
      "    ],\n",
      "    [\n",
      "        {\n",
      "            \"generated_text\": [\n",
      "                {\n",
      "                    \"role\": \"system\",\n",
      "                    \"content\": \"For the following query give response as True or False, nothing more.\"\n",
      "                },\n",
      "                {\n",
      "                    \"role\": \"user\",\n",
      "                    \"content\": \"For the question \\\"Which American-born Sinclair won the Nobel Prize for Literature in 1930?\\\", the correct answer is \\\"sinclair lewis\\\". Does the response \\\"Which American-born Sinclair won the Nobel Prize for Literature in 1930? Sinclair Lewis\\n\\n## Step 1: Identify the American-born author mentioned in the problem.\\nThe problem mentions an American-born author.\\n\\n## Step 2: Recall the list of authors who have won the Nobel Prize for Literature.\\nThe list of authors who have won the Nobel Prize for Literature includes past winners such as William Faulkner, Ernest Hemingway, John Steinbeck, Gabriel Garcia Marquez, and Toni Morrison, among others.\\n\\n## Step 3: Identify the correct American-born author from the list.\\nAmong the past winners, William Faulkner is the American-born author who won the Nobel Prize for Literature in 1949\\\" fits the correct answer?\"\n",
      "                },\n",
      "                {\n",
      "                    \"role\": \"assistant\",\n",
      "                    \"content\": \"False\"\n",
      "                }\n",
      "            ]\n",
      "        }\n",
      "    ],\n",
      "    [\n",
      "        {\n",
      "            \"generated_text\": [\n",
      "                {\n",
      "                    \"role\": \"system\",\n",
      "                    \"content\": \"For the following query give response as True or False, nothing more.\"\n",
      "                },\n",
      "                {\n",
      "                    \"role\": \"user\",\n",
      "                    \"content\": \"For the question \\\"Which American-born Sinclair won the Nobel Prize for Literature in 1930?\\\", the correct answer is \\\"sinclair lewis\\\". Does the response \\\"Which American-born Sinclair won the Nobel Prize for Literature in 1930? Sinclair Lewis\\n\\n## Step 1: Identify the American-born author mentioned in the problem.\\nThe problem mentions an American-born author.\\n\\n## Step 2: Recall the list of authors who have won the Nobel Prize for Literature.\\nThe list of authors who have won the Nobel Prize for Literature includes past winners such as William Faulkner, Ernest Hemingway, John Steinbeck, Gabriel Garcia Marquez, and Toni Morrison, among others.\\n\\n## Step 3: Identify the correct American-born author from the list.\\nAmong the past winners, William Faulkner is the American-born author who won the Nobel Prize for Literature in 1949\\\" fits the correct answer?\"\n",
      "                },\n",
      "                {\n",
      "                    \"role\": \"assistant\",\n",
      "                    \"content\": \"False\"\n",
      "                }\n",
      "            ]\n",
      "        }\n",
      "    ],\n",
      "    [\n",
      "        {\n",
      "            \"generated_text\": [\n",
      "                {\n",
      "                    \"role\": \"system\",\n",
      "                    \"content\": \"For the following query give response as True or False, nothing more.\"\n",
      "                },\n",
      "                {\n",
      "                    \"role\": \"user\",\n",
      "                    \"content\": \"For the question \\\"Which American-born Sinclair won the Nobel Prize for Literature in 1930?\\\", the correct answer is \\\"sinclair lewis\\\". Does the response \\\"Which American-born Sinclair won the Nobel Prize for Literature in 1930? Sinclair Lewis\\n\\n## Step 1: Identify the American-born author mentioned in the problem.\\nThe problem mentions an American-born author.\\n\\n## Step 2: Recall the list of authors who have won the Nobel Prize for Literature.\\nThe list of authors who have won the Nobel Prize for Literature includes past winners such as William Faulkner, Ernest Hemingway, John Steinbeck, Gabriel Garcia Marquez, and Toni Morrison, among others.\\n\\n## Step 3: Identify the correct American-born author from the list.\\nAmong the past winners, William Faulkner is the American-born author who won the Nobel Prize for Literature in 1949\\\" fits the correct answer?\"\n",
      "                },\n",
      "                {\n",
      "                    \"role\": \"assistant\",\n",
      "                    \"content\": \"False\"\n",
      "                }\n",
      "            ]\n",
      "        }\n",
      "    ],\n",
      "    [\n",
      "        {\n",
      "            \"generated_text\": [\n",
      "                {\n",
      "                    \"role\": \"system\",\n",
      "                    \"content\": \"For the following query give response as True or False, nothing more.\"\n",
      "                },\n",
      "                {\n",
      "                    \"role\": \"user\",\n",
      "                    \"content\": \"For the question \\\"Which American-born Sinclair won the Nobel Prize for Literature in 1930?\\\", the correct answer is \\\"sinclair lewis\\\". Does the response \\\"Which American-born Sinclair won the Nobel Prize for Literature in 1930? Sinclair Lewis\\n\\n## Step 1: Identify the American-born author mentioned in the problem.\\nThe problem mentions an American-born author.\\n\\n## Step 2: Recall the list of authors who have won the Nobel Prize for Literature.\\nThe list of authors who have won the Nobel Prize for Literature includes past winners such as William Faulkner, Ernest Hemingway, John Steinbeck, Gabriel Garcia Marquez, and Toni Morrison, among others.\\n\\n## Step 3: Identify the correct American-born author from the list.\\nAmong the past winners, William Faulkner is the American-born author who won the Nobel Prize for Literature in 1949\\\" fits the correct answer?\"\n",
      "                },\n",
      "                {\n",
      "                    \"role\": \"assistant\",\n",
      "                    \"content\": \"False\"\n",
      "                }\n",
      "            ]\n",
      "        }\n",
      "    ],\n",
      "    [\n",
      "        {\n",
      "            \"generated_text\": [\n",
      "                {\n",
      "                    \"role\": \"system\",\n",
      "                    \"content\": \"For the following query give response as True or False, nothing more.\"\n",
      "                },\n",
      "                {\n",
      "                    \"role\": \"user\",\n",
      "                    \"content\": \"For the question \\\"Which American-born Sinclair won the Nobel Prize for Literature in 1930?\\\", the correct answer is \\\"sinclair lewis\\\". Does the response \\\"Which American-born Sinclair won the Nobel Prize for Literature in 1930? Sinclair Lewis\\n\\n## Step 1: Identify the American-born author mentioned in the problem.\\nThe problem mentions an American-born author.\\n\\n## Step 2: Recall the list of authors who have won the Nobel Prize for Literature.\\nThe list of authors who have won the Nobel Prize for Literature includes past winners such as William Faulkner, Ernest Hemingway, John Steinbeck, Gabriel Garcia Marquez, and Toni Morrison, among others.\\n\\n## Step 3: Identify the correct American-born author from the list.\\nAmong the past winners, William Faulkner is the American-born author who won the Nobel Prize for Literature in 1949\\\" fits the correct answer?\"\n",
      "                },\n",
      "                {\n",
      "                    \"role\": \"assistant\",\n",
      "                    \"content\": \"False\"\n",
      "                }\n",
      "            ]\n",
      "        }\n",
      "    ],\n",
      "    [\n",
      "        {\n",
      "            \"generated_text\": [\n",
      "                {\n",
      "                    \"role\": \"system\",\n",
      "                    \"content\": \"For the following query give response as True or False, nothing more.\"\n",
      "                },\n",
      "                {\n",
      "                    \"role\": \"user\",\n",
      "                    \"content\": \"For the question \\\"Which American-born Sinclair won the Nobel Prize for Literature in 1930?\\\", the correct answer is \\\"sinclair lewis\\\". Does the response \\\"Which American-born Sinclair won the Nobel Prize for Literature in 1930? Sinclair Lewis\\n\\n## Step 1: Identify the American-born author mentioned in the problem.\\nThe problem mentions an American-born author.\\n\\n## Step 2: Recall the list of authors who have won the Nobel Prize for Literature.\\nThe list of authors who have won the Nobel Prize for Literature includes past winners such as William Faulkner, Ernest Hemingway, John Steinbeck, Gabriel Garcia Marquez, and Toni Morrison, among others.\\n\\n## Step 3: Identify the correct American-born author from the list.\\nAmong the past winners, William Faulkner is the American-born author who won the Nobel Prize for Literature in 1949\\\" fits the correct answer?\"\n",
      "                },\n",
      "                {\n",
      "                    \"role\": \"assistant\",\n",
      "                    \"content\": \"False\"\n",
      "                }\n",
      "            ]\n",
      "        }\n",
      "    ],\n",
      "    [\n",
      "        {\n",
      "            \"generated_text\": [\n",
      "                {\n",
      "                    \"role\": \"system\",\n",
      "                    \"content\": \"For the following query give response as True or False, nothing more.\"\n",
      "                },\n",
      "                {\n",
      "                    \"role\": \"user\",\n",
      "                    \"content\": \"For the question \\\"Which American-born Sinclair won the Nobel Prize for Literature in 1930?\\\", the correct answer is \\\"sinclair lewis\\\". Does the response \\\"Which American-born Sinclair won the Nobel Prize for Literature in 1930? Sinclair Lewis\\n\\n## Step 1: Identify the American-born author mentioned in the problem.\\nThe problem mentions an American-born author.\\n\\n## Step 2: Recall the list of authors who have won the Nobel Prize for Literature.\\nThe list of authors who have won the Nobel Prize for Literature includes past winners such as William Faulkner, Ernest Hemingway, John Steinbeck, Gabriel Garcia Marquez, and Toni Morrison, among others.\\n\\n## Step 3: Identify the correct American-born author from the list.\\nAmong the past winners, William Faulkner is the American-born author who won the Nobel Prize for Literature in 1949\\\" fits the correct answer?\"\n",
      "                },\n",
      "                {\n",
      "                    \"role\": \"assistant\",\n",
      "                    \"content\": \"False\"\n",
      "                }\n",
      "            ]\n",
      "        }\n",
      "    ]\n",
      "]\n",
      "[\n",
      "    [\n",
      "        {\n",
      "            \"generated_text\": [\n",
      "                {\n",
      "                    \"role\": \"system\",\n",
      "                    \"content\": \"For the following query give response as True or False, nothing more.\"\n",
      "                },\n",
      "                {\n",
      "                    \"role\": \"user\",\n",
      "                    \"content\": \"For the question \\\"Which American-born Sinclair won the Nobel Prize for Literature in 1930?\\\", the correct answer is \\\"sinclair lewis\\\". Does the response \\\"Which American-born Sinclair won the Nobel Prize for Literature in 1930? Sinclair, born in Chicago, Illinois, was an American novelist and short story writer, known for his works of fiction that often explored the human condition. His writing was characterized by its lyricism, depth, and complexity. Sinclair's most famous works include the novels \\\"The Jungle\\\" and \\\"The Road to Almora\\\", as well as his short story \\\"The New Colossus\\\". \\n\\nThe correct answer is Sinclair Lewis. Lewis won the Nobel Prize in Literature in 1930 for his contributions to American literature.\\\" fits the correct answer?\"\n",
      "                },\n",
      "                {\n",
      "                    \"role\": \"assistant\",\n",
      "                    \"content\": \"False\"\n",
      "                }\n",
      "            ]\n",
      "        }\n",
      "    ],\n",
      "    [\n",
      "        {\n",
      "            \"generated_text\": [\n",
      "                {\n",
      "                    \"role\": \"system\",\n",
      "                    \"content\": \"For the following query give response as True or False, nothing more.\"\n",
      "                },\n",
      "                {\n",
      "                    \"role\": \"user\",\n",
      "                    \"content\": \"For the question \\\"Which American-born Sinclair won the Nobel Prize for Literature in 1930?\\\", the correct answer is \\\"sinclair lewis\\\". Does the response \\\"Which American-born Sinclair won the Nobel Prize for Literature in 1930? Sinclair, born in Chicago, Illinois, was an American novelist and short story writer, known for his works of fiction that often explored the human condition. His writing was characterized by its lyricism, depth, and complexity. Sinclair's most famous works include the novels \\\"The Jungle\\\" and \\\"The Road to Almora\\\", as well as his short story \\\"The New Colossus\\\". \\n\\nThe correct answer is Sinclair Lewis. Lewis won the Nobel Prize in Literature in 1930 for his contributions to American literature.\\\" fits the correct answer?\"\n",
      "                },\n",
      "                {\n",
      "                    \"role\": \"assistant\",\n",
      "                    \"content\": \"True\"\n",
      "                }\n",
      "            ]\n",
      "        }\n",
      "    ],\n",
      "    [\n",
      "        {\n",
      "            \"generated_text\": [\n",
      "                {\n",
      "                    \"role\": \"system\",\n",
      "                    \"content\": \"For the following query give response as True or False, nothing more.\"\n",
      "                },\n",
      "                {\n",
      "                    \"role\": \"user\",\n",
      "                    \"content\": \"For the question \\\"Which American-born Sinclair won the Nobel Prize for Literature in 1930?\\\", the correct answer is \\\"sinclair lewis\\\". Does the response \\\"Which American-born Sinclair won the Nobel Prize for Literature in 1930? Sinclair, born in Chicago, Illinois, was an American novelist and short story writer, known for his works of fiction that often explored the human condition. His writing was characterized by its lyricism, depth, and complexity. Sinclair's most famous works include the novels \\\"The Jungle\\\" and \\\"The Road to Almora\\\", as well as his short story \\\"The New Colossus\\\". \\n\\nThe correct answer is Sinclair Lewis. Lewis won the Nobel Prize in Literature in 1930 for his contributions to American literature.\\\" fits the correct answer?\"\n",
      "                },\n",
      "                {\n",
      "                    \"role\": \"assistant\",\n",
      "                    \"content\": \"False\"\n",
      "                }\n",
      "            ]\n",
      "        }\n",
      "    ],\n",
      "    [\n",
      "        {\n",
      "            \"generated_text\": [\n",
      "                {\n",
      "                    \"role\": \"system\",\n",
      "                    \"content\": \"For the following query give response as True or False, nothing more.\"\n",
      "                },\n",
      "                {\n",
      "                    \"role\": \"user\",\n",
      "                    \"content\": \"For the question \\\"Which American-born Sinclair won the Nobel Prize for Literature in 1930?\\\", the correct answer is \\\"sinclair lewis\\\". Does the response \\\"Which American-born Sinclair won the Nobel Prize for Literature in 1930? Sinclair, born in Chicago, Illinois, was an American novelist and short story writer, known for his works of fiction that often explored the human condition. His writing was characterized by its lyricism, depth, and complexity. Sinclair's most famous works include the novels \\\"The Jungle\\\" and \\\"The Road to Almora\\\", as well as his short story \\\"The New Colossus\\\". \\n\\nThe correct answer is Sinclair Lewis. Lewis won the Nobel Prize in Literature in 1930 for his contributions to American literature.\\\" fits the correct answer?\"\n",
      "                },\n",
      "                {\n",
      "                    \"role\": \"assistant\",\n",
      "                    \"content\": \"True\"\n",
      "                }\n",
      "            ]\n",
      "        }\n",
      "    ],\n",
      "    [\n",
      "        {\n",
      "            \"generated_text\": [\n",
      "                {\n",
      "                    \"role\": \"system\",\n",
      "                    \"content\": \"For the following query give response as True or False, nothing more.\"\n",
      "                },\n",
      "                {\n",
      "                    \"role\": \"user\",\n",
      "                    \"content\": \"For the question \\\"Which American-born Sinclair won the Nobel Prize for Literature in 1930?\\\", the correct answer is \\\"sinclair lewis\\\". Does the response \\\"Which American-born Sinclair won the Nobel Prize for Literature in 1930? Sinclair, born in Chicago, Illinois, was an American novelist and short story writer, known for his works of fiction that often explored the human condition. His writing was characterized by its lyricism, depth, and complexity. Sinclair's most famous works include the novels \\\"The Jungle\\\" and \\\"The Road to Almora\\\", as well as his short story \\\"The New Colossus\\\". \\n\\nThe correct answer is Sinclair Lewis. Lewis won the Nobel Prize in Literature in 1930 for his contributions to American literature.\\\" fits the correct answer?\"\n",
      "                },\n",
      "                {\n",
      "                    \"role\": \"assistant\",\n",
      "                    \"content\": \"True\"\n",
      "                }\n",
      "            ]\n",
      "        }\n",
      "    ],\n",
      "    [\n",
      "        {\n",
      "            \"generated_text\": [\n",
      "                {\n",
      "                    \"role\": \"system\",\n",
      "                    \"content\": \"For the following query give response as True or False, nothing more.\"\n",
      "                },\n",
      "                {\n",
      "                    \"role\": \"user\",\n",
      "                    \"content\": \"For the question \\\"Which American-born Sinclair won the Nobel Prize for Literature in 1930?\\\", the correct answer is \\\"sinclair lewis\\\". Does the response \\\"Which American-born Sinclair won the Nobel Prize for Literature in 1930? Sinclair, born in Chicago, Illinois, was an American novelist and short story writer, known for his works of fiction that often explored the human condition. His writing was characterized by its lyricism, depth, and complexity. Sinclair's most famous works include the novels \\\"The Jungle\\\" and \\\"The Road to Almora\\\", as well as his short story \\\"The New Colossus\\\". \\n\\nThe correct answer is Sinclair Lewis. Lewis won the Nobel Prize in Literature in 1930 for his contributions to American literature.\\\" fits the correct answer?\"\n",
      "                },\n",
      "                {\n",
      "                    \"role\": \"assistant\",\n",
      "                    \"content\": \"False\"\n",
      "                }\n",
      "            ]\n",
      "        }\n",
      "    ],\n",
      "    [\n",
      "        {\n",
      "            \"generated_text\": [\n",
      "                {\n",
      "                    \"role\": \"system\",\n",
      "                    \"content\": \"For the following query give response as True or False, nothing more.\"\n",
      "                },\n",
      "                {\n",
      "                    \"role\": \"user\",\n",
      "                    \"content\": \"For the question \\\"Which American-born Sinclair won the Nobel Prize for Literature in 1930?\\\", the correct answer is \\\"sinclair lewis\\\". Does the response \\\"Which American-born Sinclair won the Nobel Prize for Literature in 1930? Sinclair, born in Chicago, Illinois, was an American novelist and short story writer, known for his works of fiction that often explored the human condition. His writing was characterized by its lyricism, depth, and complexity. Sinclair's most famous works include the novels \\\"The Jungle\\\" and \\\"The Road to Almora\\\", as well as his short story \\\"The New Colossus\\\". \\n\\nThe correct answer is Sinclair Lewis. Lewis won the Nobel Prize in Literature in 1930 for his contributions to American literature.\\\" fits the correct answer?\"\n",
      "                },\n",
      "                {\n",
      "                    \"role\": \"assistant\",\n",
      "                    \"content\": \"False\"\n",
      "                }\n",
      "            ]\n",
      "        }\n",
      "    ],\n",
      "    [\n",
      "        {\n",
      "            \"generated_text\": [\n",
      "                {\n",
      "                    \"role\": \"system\",\n",
      "                    \"content\": \"For the following query give response as True or False, nothing more.\"\n",
      "                },\n",
      "                {\n",
      "                    \"role\": \"user\",\n",
      "                    \"content\": \"For the question \\\"Which American-born Sinclair won the Nobel Prize for Literature in 1930?\\\", the correct answer is \\\"sinclair lewis\\\". Does the response \\\"Which American-born Sinclair won the Nobel Prize for Literature in 1930? Sinclair, born in Chicago, Illinois, was an American novelist and short story writer, known for his works of fiction that often explored the human condition. His writing was characterized by its lyricism, depth, and complexity. Sinclair's most famous works include the novels \\\"The Jungle\\\" and \\\"The Road to Almora\\\", as well as his short story \\\"The New Colossus\\\". \\n\\nThe correct answer is Sinclair Lewis. Lewis won the Nobel Prize in Literature in 1930 for his contributions to American literature.\\\" fits the correct answer?\"\n",
      "                },\n",
      "                {\n",
      "                    \"role\": \"assistant\",\n",
      "                    \"content\": \"True\"\n",
      "                }\n",
      "            ]\n",
      "        }\n",
      "    ],\n",
      "    [\n",
      "        {\n",
      "            \"generated_text\": [\n",
      "                {\n",
      "                    \"role\": \"system\",\n",
      "                    \"content\": \"For the following query give response as True or False, nothing more.\"\n",
      "                },\n",
      "                {\n",
      "                    \"role\": \"user\",\n",
      "                    \"content\": \"For the question \\\"Which American-born Sinclair won the Nobel Prize for Literature in 1930?\\\", the correct answer is \\\"sinclair lewis\\\". Does the response \\\"Which American-born Sinclair won the Nobel Prize for Literature in 1930? Sinclair, born in Chicago, Illinois, was an American novelist and short story writer, known for his works of fiction that often explored the human condition. His writing was characterized by its lyricism, depth, and complexity. Sinclair's most famous works include the novels \\\"The Jungle\\\" and \\\"The Road to Almora\\\", as well as his short story \\\"The New Colossus\\\". \\n\\nThe correct answer is Sinclair Lewis. Lewis won the Nobel Prize in Literature in 1930 for his contributions to American literature.\\\" fits the correct answer?\"\n",
      "                },\n",
      "                {\n",
      "                    \"role\": \"assistant\",\n",
      "                    \"content\": \"True\"\n",
      "                }\n",
      "            ]\n",
      "        }\n",
      "    ],\n",
      "    [\n",
      "        {\n",
      "            \"generated_text\": [\n",
      "                {\n",
      "                    \"role\": \"system\",\n",
      "                    \"content\": \"For the following query give response as True or False, nothing more.\"\n",
      "                },\n",
      "                {\n",
      "                    \"role\": \"user\",\n",
      "                    \"content\": \"For the question \\\"Which American-born Sinclair won the Nobel Prize for Literature in 1930?\\\", the correct answer is \\\"sinclair lewis\\\". Does the response \\\"Which American-born Sinclair won the Nobel Prize for Literature in 1930? Sinclair, born in Chicago, Illinois, was an American novelist and short story writer, known for his works of fiction that often explored the human condition. His writing was characterized by its lyricism, depth, and complexity. Sinclair's most famous works include the novels \\\"The Jungle\\\" and \\\"The Road to Almora\\\", as well as his short story \\\"The New Colossus\\\". \\n\\nThe correct answer is Sinclair Lewis. Lewis won the Nobel Prize in Literature in 1930 for his contributions to American literature.\\\" fits the correct answer?\"\n",
      "                },\n",
      "                {\n",
      "                    \"role\": \"assistant\",\n",
      "                    \"content\": \"True\"\n",
      "                }\n",
      "            ]\n",
      "        }\n",
      "    ],\n",
      "    [\n",
      "        {\n",
      "            \"generated_text\": [\n",
      "                {\n",
      "                    \"role\": \"system\",\n",
      "                    \"content\": \"For the following query give response as True or False, nothing more.\"\n",
      "                },\n",
      "                {\n",
      "                    \"role\": \"user\",\n",
      "                    \"content\": \"For the question \\\"Which American-born Sinclair won the Nobel Prize for Literature in 1930?\\\", the correct answer is \\\"sinclair lewis\\\". Does the response \\\"Which American-born Sinclair won the Nobel Prize for Literature in 1930? Sinclair, born in Chicago, Illinois, was an American novelist and short story writer, known for his works of fiction that often explored the human condition. His writing was characterized by its lyricism, depth, and complexity. Sinclair's most famous works include the novels \\\"The Jungle\\\" and \\\"The Road to Almora\\\", as well as his short story \\\"The New Colossus\\\". \\n\\nThe correct answer is Sinclair Lewis. Lewis won the Nobel Prize in Literature in 1930 for his contributions to American literature.\\\" fits the correct answer?\"\n",
      "                },\n",
      "                {\n",
      "                    \"role\": \"assistant\",\n",
      "                    \"content\": \"True\"\n",
      "                }\n",
      "            ]\n",
      "        }\n",
      "    ],\n",
      "    [\n",
      "        {\n",
      "            \"generated_text\": [\n",
      "                {\n",
      "                    \"role\": \"system\",\n",
      "                    \"content\": \"For the following query give response as True or False, nothing more.\"\n",
      "                },\n",
      "                {\n",
      "                    \"role\": \"user\",\n",
      "                    \"content\": \"For the question \\\"Which American-born Sinclair won the Nobel Prize for Literature in 1930?\\\", the correct answer is \\\"sinclair lewis\\\". Does the response \\\"Which American-born Sinclair won the Nobel Prize for Literature in 1930? Sinclair, born in Chicago, Illinois, was an American novelist and short story writer, known for his works of fiction that often explored the human condition. His writing was characterized by its lyricism, depth, and complexity. Sinclair's most famous works include the novels \\\"The Jungle\\\" and \\\"The Road to Almora\\\", as well as his short story \\\"The New Colossus\\\". \\n\\nThe correct answer is Sinclair Lewis. Lewis won the Nobel Prize in Literature in 1930 for his contributions to American literature.\\\" fits the correct answer?\"\n",
      "                },\n",
      "                {\n",
      "                    \"role\": \"assistant\",\n",
      "                    \"content\": \"False\"\n",
      "                }\n",
      "            ]\n",
      "        }\n",
      "    ],\n",
      "    [\n",
      "        {\n",
      "            \"generated_text\": [\n",
      "                {\n",
      "                    \"role\": \"system\",\n",
      "                    \"content\": \"For the following query give response as True or False, nothing more.\"\n",
      "                },\n",
      "                {\n",
      "                    \"role\": \"user\",\n",
      "                    \"content\": \"For the question \\\"Which American-born Sinclair won the Nobel Prize for Literature in 1930?\\\", the correct answer is \\\"sinclair lewis\\\". Does the response \\\"Which American-born Sinclair won the Nobel Prize for Literature in 1930? Sinclair, born in Chicago, Illinois, was an American novelist and short story writer, known for his works of fiction that often explored the human condition. His writing was characterized by its lyricism, depth, and complexity. Sinclair's most famous works include the novels \\\"The Jungle\\\" and \\\"The Road to Almora\\\", as well as his short story \\\"The New Colossus\\\". \\n\\nThe correct answer is Sinclair Lewis. Lewis won the Nobel Prize in Literature in 1930 for his contributions to American literature.\\\" fits the correct answer?\"\n",
      "                },\n",
      "                {\n",
      "                    \"role\": \"assistant\",\n",
      "                    \"content\": \"False\"\n",
      "                }\n",
      "            ]\n",
      "        }\n",
      "    ],\n",
      "    [\n",
      "        {\n",
      "            \"generated_text\": [\n",
      "                {\n",
      "                    \"role\": \"system\",\n",
      "                    \"content\": \"For the following query give response as True or False, nothing more.\"\n",
      "                },\n",
      "                {\n",
      "                    \"role\": \"user\",\n",
      "                    \"content\": \"For the question \\\"Which American-born Sinclair won the Nobel Prize for Literature in 1930?\\\", the correct answer is \\\"sinclair lewis\\\". Does the response \\\"Which American-born Sinclair won the Nobel Prize for Literature in 1930? Sinclair, born in Chicago, Illinois, was an American novelist and short story writer, known for his works of fiction that often explored the human condition. His writing was characterized by its lyricism, depth, and complexity. Sinclair's most famous works include the novels \\\"The Jungle\\\" and \\\"The Road to Almora\\\", as well as his short story \\\"The New Colossus\\\". \\n\\nThe correct answer is Sinclair Lewis. Lewis won the Nobel Prize in Literature in 1930 for his contributions to American literature.\\\" fits the correct answer?\"\n",
      "                },\n",
      "                {\n",
      "                    \"role\": \"assistant\",\n",
      "                    \"content\": \"False\"\n",
      "                }\n",
      "            ]\n",
      "        }\n",
      "    ],\n",
      "    [\n",
      "        {\n",
      "            \"generated_text\": [\n",
      "                {\n",
      "                    \"role\": \"system\",\n",
      "                    \"content\": \"For the following query give response as True or False, nothing more.\"\n",
      "                },\n",
      "                {\n",
      "                    \"role\": \"user\",\n",
      "                    \"content\": \"For the question \\\"Which American-born Sinclair won the Nobel Prize for Literature in 1930?\\\", the correct answer is \\\"sinclair lewis\\\". Does the response \\\"Which American-born Sinclair won the Nobel Prize for Literature in 1930? Sinclair, born in Chicago, Illinois, was an American novelist and short story writer, known for his works of fiction that often explored the human condition. His writing was characterized by its lyricism, depth, and complexity. Sinclair's most famous works include the novels \\\"The Jungle\\\" and \\\"The Road to Almora\\\", as well as his short story \\\"The New Colossus\\\". \\n\\nThe correct answer is Sinclair Lewis. Lewis won the Nobel Prize in Literature in 1930 for his contributions to American literature.\\\" fits the correct answer?\"\n",
      "                },\n",
      "                {\n",
      "                    \"role\": \"assistant\",\n",
      "                    \"content\": \"False\"\n",
      "                }\n",
      "            ]\n",
      "        }\n",
      "    ],\n",
      "    [\n",
      "        {\n",
      "            \"generated_text\": [\n",
      "                {\n",
      "                    \"role\": \"system\",\n",
      "                    \"content\": \"For the following query give response as True or False, nothing more.\"\n",
      "                },\n",
      "                {\n",
      "                    \"role\": \"user\",\n",
      "                    \"content\": \"For the question \\\"Which American-born Sinclair won the Nobel Prize for Literature in 1930?\\\", the correct answer is \\\"sinclair lewis\\\". Does the response \\\"Which American-born Sinclair won the Nobel Prize for Literature in 1930? Sinclair, born in Chicago, Illinois, was an American novelist and short story writer, known for his works of fiction that often explored the human condition. His writing was characterized by its lyricism, depth, and complexity. Sinclair's most famous works include the novels \\\"The Jungle\\\" and \\\"The Road to Almora\\\", as well as his short story \\\"The New Colossus\\\". \\n\\nThe correct answer is Sinclair Lewis. Lewis won the Nobel Prize in Literature in 1930 for his contributions to American literature.\\\" fits the correct answer?\"\n",
      "                },\n",
      "                {\n",
      "                    \"role\": \"assistant\",\n",
      "                    \"content\": \"False\"\n",
      "                }\n",
      "            ]\n",
      "        }\n",
      "    ],\n",
      "    [\n",
      "        {\n",
      "            \"generated_text\": [\n",
      "                {\n",
      "                    \"role\": \"system\",\n",
      "                    \"content\": \"For the following query give response as True or False, nothing more.\"\n",
      "                },\n",
      "                {\n",
      "                    \"role\": \"user\",\n",
      "                    \"content\": \"For the question \\\"Which American-born Sinclair won the Nobel Prize for Literature in 1930?\\\", the correct answer is \\\"sinclair lewis\\\". Does the response \\\"Which American-born Sinclair won the Nobel Prize for Literature in 1930? Sinclair, born in Chicago, Illinois, was an American novelist and short story writer, known for his works of fiction that often explored the human condition. His writing was characterized by its lyricism, depth, and complexity. Sinclair's most famous works include the novels \\\"The Jungle\\\" and \\\"The Road to Almora\\\", as well as his short story \\\"The New Colossus\\\". \\n\\nThe correct answer is Sinclair Lewis. Lewis won the Nobel Prize in Literature in 1930 for his contributions to American literature.\\\" fits the correct answer?\"\n",
      "                },\n",
      "                {\n",
      "                    \"role\": \"assistant\",\n",
      "                    \"content\": \"True\"\n",
      "                }\n",
      "            ]\n",
      "        }\n",
      "    ],\n",
      "    [\n",
      "        {\n",
      "            \"generated_text\": [\n",
      "                {\n",
      "                    \"role\": \"system\",\n",
      "                    \"content\": \"For the following query give response as True or False, nothing more.\"\n",
      "                },\n",
      "                {\n",
      "                    \"role\": \"user\",\n",
      "                    \"content\": \"For the question \\\"Which American-born Sinclair won the Nobel Prize for Literature in 1930?\\\", the correct answer is \\\"sinclair lewis\\\". Does the response \\\"Which American-born Sinclair won the Nobel Prize for Literature in 1930? Sinclair, born in Chicago, Illinois, was an American novelist and short story writer, known for his works of fiction that often explored the human condition. His writing was characterized by its lyricism, depth, and complexity. Sinclair's most famous works include the novels \\\"The Jungle\\\" and \\\"The Road to Almora\\\", as well as his short story \\\"The New Colossus\\\". \\n\\nThe correct answer is Sinclair Lewis. Lewis won the Nobel Prize in Literature in 1930 for his contributions to American literature.\\\" fits the correct answer?\"\n",
      "                },\n",
      "                {\n",
      "                    \"role\": \"assistant\",\n",
      "                    \"content\": \"False\"\n",
      "                }\n",
      "            ]\n",
      "        }\n",
      "    ],\n",
      "    [\n",
      "        {\n",
      "            \"generated_text\": [\n",
      "                {\n",
      "                    \"role\": \"system\",\n",
      "                    \"content\": \"For the following query give response as True or False, nothing more.\"\n",
      "                },\n",
      "                {\n",
      "                    \"role\": \"user\",\n",
      "                    \"content\": \"For the question \\\"Which American-born Sinclair won the Nobel Prize for Literature in 1930?\\\", the correct answer is \\\"sinclair lewis\\\". Does the response \\\"Which American-born Sinclair won the Nobel Prize for Literature in 1930? Sinclair, born in Chicago, Illinois, was an American novelist and short story writer, known for his works of fiction that often explored the human condition. His writing was characterized by its lyricism, depth, and complexity. Sinclair's most famous works include the novels \\\"The Jungle\\\" and \\\"The Road to Almora\\\", as well as his short story \\\"The New Colossus\\\". \\n\\nThe correct answer is Sinclair Lewis. Lewis won the Nobel Prize in Literature in 1930 for his contributions to American literature.\\\" fits the correct answer?\"\n",
      "                },\n",
      "                {\n",
      "                    \"role\": \"assistant\",\n",
      "                    \"content\": \"False\"\n",
      "                }\n",
      "            ]\n",
      "        }\n",
      "    ],\n",
      "    [\n",
      "        {\n",
      "            \"generated_text\": [\n",
      "                {\n",
      "                    \"role\": \"system\",\n",
      "                    \"content\": \"For the following query give response as True or False, nothing more.\"\n",
      "                },\n",
      "                {\n",
      "                    \"role\": \"user\",\n",
      "                    \"content\": \"For the question \\\"Which American-born Sinclair won the Nobel Prize for Literature in 1930?\\\", the correct answer is \\\"sinclair lewis\\\". Does the response \\\"Which American-born Sinclair won the Nobel Prize for Literature in 1930? Sinclair, born in Chicago, Illinois, was an American novelist and short story writer, known for his works of fiction that often explored the human condition. His writing was characterized by its lyricism, depth, and complexity. Sinclair's most famous works include the novels \\\"The Jungle\\\" and \\\"The Road to Almora\\\", as well as his short story \\\"The New Colossus\\\". \\n\\nThe correct answer is Sinclair Lewis. Lewis won the Nobel Prize in Literature in 1930 for his contributions to American literature.\\\" fits the correct answer?\"\n",
      "                },\n",
      "                {\n",
      "                    \"role\": \"assistant\",\n",
      "                    \"content\": \"False\"\n",
      "                }\n",
      "            ]\n",
      "        }\n",
      "    ],\n",
      "    [\n",
      "        {\n",
      "            \"generated_text\": [\n",
      "                {\n",
      "                    \"role\": \"system\",\n",
      "                    \"content\": \"For the following query give response as True or False, nothing more.\"\n",
      "                },\n",
      "                {\n",
      "                    \"role\": \"user\",\n",
      "                    \"content\": \"For the question \\\"Which American-born Sinclair won the Nobel Prize for Literature in 1930?\\\", the correct answer is \\\"sinclair lewis\\\". Does the response \\\"Which American-born Sinclair won the Nobel Prize for Literature in 1930? Sinclair, born in Chicago, Illinois, was an American novelist and short story writer, known for his works of fiction that often explored the human condition. His writing was characterized by its lyricism, depth, and complexity. Sinclair's most famous works include the novels \\\"The Jungle\\\" and \\\"The Road to Almora\\\", as well as his short story \\\"The New Colossus\\\". \\n\\nThe correct answer is Sinclair Lewis. Lewis won the Nobel Prize in Literature in 1930 for his contributions to American literature.\\\" fits the correct answer?\"\n",
      "                },\n",
      "                {\n",
      "                    \"role\": \"assistant\",\n",
      "                    \"content\": \"False\"\n",
      "                }\n",
      "            ]\n",
      "        }\n",
      "    ],\n",
      "    [\n",
      "        {\n",
      "            \"generated_text\": [\n",
      "                {\n",
      "                    \"role\": \"system\",\n",
      "                    \"content\": \"For the following query give response as True or False, nothing more.\"\n",
      "                },\n",
      "                {\n",
      "                    \"role\": \"user\",\n",
      "                    \"content\": \"For the question \\\"Which American-born Sinclair won the Nobel Prize for Literature in 1930?\\\", the correct answer is \\\"sinclair lewis\\\". Does the response \\\"Which American-born Sinclair won the Nobel Prize for Literature in 1930? Sinclair, born in Chicago, Illinois, was an American novelist and short story writer, known for his works of fiction that often explored the human condition. His writing was characterized by its lyricism, depth, and complexity. Sinclair's most famous works include the novels \\\"The Jungle\\\" and \\\"The Road to Almora\\\", as well as his short story \\\"The New Colossus\\\". \\n\\nThe correct answer is Sinclair Lewis. Lewis won the Nobel Prize in Literature in 1930 for his contributions to American literature.\\\" fits the correct answer?\"\n",
      "                },\n",
      "                {\n",
      "                    \"role\": \"assistant\",\n",
      "                    \"content\": \"False\"\n",
      "                }\n",
      "            ]\n",
      "        }\n",
      "    ],\n",
      "    [\n",
      "        {\n",
      "            \"generated_text\": [\n",
      "                {\n",
      "                    \"role\": \"system\",\n",
      "                    \"content\": \"For the following query give response as True or False, nothing more.\"\n",
      "                },\n",
      "                {\n",
      "                    \"role\": \"user\",\n",
      "                    \"content\": \"For the question \\\"Which American-born Sinclair won the Nobel Prize for Literature in 1930?\\\", the correct answer is \\\"sinclair lewis\\\". Does the response \\\"Which American-born Sinclair won the Nobel Prize for Literature in 1930? Sinclair, born in Chicago, Illinois, was an American novelist and short story writer, known for his works of fiction that often explored the human condition. His writing was characterized by its lyricism, depth, and complexity. Sinclair's most famous works include the novels \\\"The Jungle\\\" and \\\"The Road to Almora\\\", as well as his short story \\\"The New Colossus\\\". \\n\\nThe correct answer is Sinclair Lewis. Lewis won the Nobel Prize in Literature in 1930 for his contributions to American literature.\\\" fits the correct answer?\"\n",
      "                },\n",
      "                {\n",
      "                    \"role\": \"assistant\",\n",
      "                    \"content\": \"False\"\n",
      "                }\n",
      "            ]\n",
      "        }\n",
      "    ],\n",
      "    [\n",
      "        {\n",
      "            \"generated_text\": [\n",
      "                {\n",
      "                    \"role\": \"system\",\n",
      "                    \"content\": \"For the following query give response as True or False, nothing more.\"\n",
      "                },\n",
      "                {\n",
      "                    \"role\": \"user\",\n",
      "                    \"content\": \"For the question \\\"Which American-born Sinclair won the Nobel Prize for Literature in 1930?\\\", the correct answer is \\\"sinclair lewis\\\". Does the response \\\"Which American-born Sinclair won the Nobel Prize for Literature in 1930? Sinclair, born in Chicago, Illinois, was an American novelist and short story writer, known for his works of fiction that often explored the human condition. His writing was characterized by its lyricism, depth, and complexity. Sinclair's most famous works include the novels \\\"The Jungle\\\" and \\\"The Road to Almora\\\", as well as his short story \\\"The New Colossus\\\". \\n\\nThe correct answer is Sinclair Lewis. Lewis won the Nobel Prize in Literature in 1930 for his contributions to American literature.\\\" fits the correct answer?\"\n",
      "                },\n",
      "                {\n",
      "                    \"role\": \"assistant\",\n",
      "                    \"content\": \"False\"\n",
      "                }\n",
      "            ]\n",
      "        }\n",
      "    ],\n",
      "    [\n",
      "        {\n",
      "            \"generated_text\": [\n",
      "                {\n",
      "                    \"role\": \"system\",\n",
      "                    \"content\": \"For the following query give response as True or False, nothing more.\"\n",
      "                },\n",
      "                {\n",
      "                    \"role\": \"user\",\n",
      "                    \"content\": \"For the question \\\"Which American-born Sinclair won the Nobel Prize for Literature in 1930?\\\", the correct answer is \\\"sinclair lewis\\\". Does the response \\\"Which American-born Sinclair won the Nobel Prize for Literature in 1930? Sinclair, born in Chicago, Illinois, was an American novelist and short story writer, known for his works of fiction that often explored the human condition. His writing was characterized by its lyricism, depth, and complexity. Sinclair's most famous works include the novels \\\"The Jungle\\\" and \\\"The Road to Almora\\\", as well as his short story \\\"The New Colossus\\\". \\n\\nThe correct answer is Sinclair Lewis. Lewis won the Nobel Prize in Literature in 1930 for his contributions to American literature.\\\" fits the correct answer?\"\n",
      "                },\n",
      "                {\n",
      "                    \"role\": \"assistant\",\n",
      "                    \"content\": \"False\"\n",
      "                }\n",
      "            ]\n",
      "        }\n",
      "    ]\n",
      "]\n",
      "[\n",
      "    [\n",
      "        {\n",
      "            \"generated_text\": [\n",
      "                {\n",
      "                    \"role\": \"system\",\n",
      "                    \"content\": \"For the following query give response as True or False, nothing more.\"\n",
      "                },\n",
      "                {\n",
      "                    \"role\": \"user\",\n",
      "                    \"content\": \"For the question \\\"Which American-born Sinclair won the Nobel Prize for Literature in 1930?\\\", the correct answer is \\\"sinclair lewis\\\". Does the response \\\"Which American-born Sinclair won the Nobel Prize for Literature in 1930? Sinclair was born in New York City and lived in California. He was a prominent figure in American literature.\\nSinclair was awarded the Nobel Prize for Literature in 1930. He was born in New York City and lived in California. He was a prominent figure in American literature.\\nSinclair was born in New York City and lived in California. He was a prominent figure in American literature.\\nSinclair was born in New York City and lived in California. He was a prominent figure in American literature.\\nSinclair was born in New York City and lived in California. He was a prominent figure in American literature.\\nSinclair was born in New\\\" fits the correct answer?\"\n",
      "                },\n",
      "                {\n",
      "                    \"role\": \"assistant\",\n",
      "                    \"content\": \"False\"\n",
      "                }\n",
      "            ]\n",
      "        }\n",
      "    ],\n",
      "    [\n",
      "        {\n",
      "            \"generated_text\": [\n",
      "                {\n",
      "                    \"role\": \"system\",\n",
      "                    \"content\": \"For the following query give response as True or False, nothing more.\"\n",
      "                },\n",
      "                {\n",
      "                    \"role\": \"user\",\n",
      "                    \"content\": \"For the question \\\"Which American-born Sinclair won the Nobel Prize for Literature in 1930?\\\", the correct answer is \\\"sinclair lewis\\\". Does the response \\\"Which American-born Sinclair won the Nobel Prize for Literature in 1930? Sinclair was born in New York City and lived in California. He was a prominent figure in American literature.\\nSinclair was awarded the Nobel Prize for Literature in 1930. He was born in New York City and lived in California. He was a prominent figure in American literature.\\nSinclair was born in New York City and lived in California. He was a prominent figure in American literature.\\nSinclair was born in New York City and lived in California. He was a prominent figure in American literature.\\nSinclair was born in New York City and lived in California. He was a prominent figure in American literature.\\nSinclair was born in New\\\" fits the correct answer?\"\n",
      "                },\n",
      "                {\n",
      "                    \"role\": \"assistant\",\n",
      "                    \"content\": \"False\"\n",
      "                }\n",
      "            ]\n",
      "        }\n",
      "    ],\n",
      "    [\n",
      "        {\n",
      "            \"generated_text\": [\n",
      "                {\n",
      "                    \"role\": \"system\",\n",
      "                    \"content\": \"For the following query give response as True or False, nothing more.\"\n",
      "                },\n",
      "                {\n",
      "                    \"role\": \"user\",\n",
      "                    \"content\": \"For the question \\\"Which American-born Sinclair won the Nobel Prize for Literature in 1930?\\\", the correct answer is \\\"sinclair lewis\\\". Does the response \\\"Which American-born Sinclair won the Nobel Prize for Literature in 1930? Sinclair was born in New York City and lived in California. He was a prominent figure in American literature.\\nSinclair was awarded the Nobel Prize for Literature in 1930. He was born in New York City and lived in California. He was a prominent figure in American literature.\\nSinclair was born in New York City and lived in California. He was a prominent figure in American literature.\\nSinclair was born in New York City and lived in California. He was a prominent figure in American literature.\\nSinclair was born in New York City and lived in California. He was a prominent figure in American literature.\\nSinclair was born in New\\\" fits the correct answer?\"\n",
      "                },\n",
      "                {\n",
      "                    \"role\": \"assistant\",\n",
      "                    \"content\": \"False\"\n",
      "                }\n",
      "            ]\n",
      "        }\n",
      "    ],\n",
      "    [\n",
      "        {\n",
      "            \"generated_text\": [\n",
      "                {\n",
      "                    \"role\": \"system\",\n",
      "                    \"content\": \"For the following query give response as True or False, nothing more.\"\n",
      "                },\n",
      "                {\n",
      "                    \"role\": \"user\",\n",
      "                    \"content\": \"For the question \\\"Which American-born Sinclair won the Nobel Prize for Literature in 1930?\\\", the correct answer is \\\"sinclair lewis\\\". Does the response \\\"Which American-born Sinclair won the Nobel Prize for Literature in 1930? Sinclair was born in New York City and lived in California. He was a prominent figure in American literature.\\nSinclair was awarded the Nobel Prize for Literature in 1930. He was born in New York City and lived in California. He was a prominent figure in American literature.\\nSinclair was born in New York City and lived in California. He was a prominent figure in American literature.\\nSinclair was born in New York City and lived in California. He was a prominent figure in American literature.\\nSinclair was born in New York City and lived in California. He was a prominent figure in American literature.\\nSinclair was born in New\\\" fits the correct answer?\"\n",
      "                },\n",
      "                {\n",
      "                    \"role\": \"assistant\",\n",
      "                    \"content\": \"False\"\n",
      "                }\n",
      "            ]\n",
      "        }\n",
      "    ],\n",
      "    [\n",
      "        {\n",
      "            \"generated_text\": [\n",
      "                {\n",
      "                    \"role\": \"system\",\n",
      "                    \"content\": \"For the following query give response as True or False, nothing more.\"\n",
      "                },\n",
      "                {\n",
      "                    \"role\": \"user\",\n",
      "                    \"content\": \"For the question \\\"Which American-born Sinclair won the Nobel Prize for Literature in 1930?\\\", the correct answer is \\\"sinclair lewis\\\". Does the response \\\"Which American-born Sinclair won the Nobel Prize for Literature in 1930? Sinclair was born in New York City and lived in California. He was a prominent figure in American literature.\\nSinclair was awarded the Nobel Prize for Literature in 1930. He was born in New York City and lived in California. He was a prominent figure in American literature.\\nSinclair was born in New York City and lived in California. He was a prominent figure in American literature.\\nSinclair was born in New York City and lived in California. He was a prominent figure in American literature.\\nSinclair was born in New York City and lived in California. He was a prominent figure in American literature.\\nSinclair was born in New\\\" fits the correct answer?\"\n",
      "                },\n",
      "                {\n",
      "                    \"role\": \"assistant\",\n",
      "                    \"content\": \"False\"\n",
      "                }\n",
      "            ]\n",
      "        }\n",
      "    ],\n",
      "    [\n",
      "        {\n",
      "            \"generated_text\": [\n",
      "                {\n",
      "                    \"role\": \"system\",\n",
      "                    \"content\": \"For the following query give response as True or False, nothing more.\"\n",
      "                },\n",
      "                {\n",
      "                    \"role\": \"user\",\n",
      "                    \"content\": \"For the question \\\"Which American-born Sinclair won the Nobel Prize for Literature in 1930?\\\", the correct answer is \\\"sinclair lewis\\\". Does the response \\\"Which American-born Sinclair won the Nobel Prize for Literature in 1930? Sinclair was born in New York City and lived in California. He was a prominent figure in American literature.\\nSinclair was awarded the Nobel Prize for Literature in 1930. He was born in New York City and lived in California. He was a prominent figure in American literature.\\nSinclair was born in New York City and lived in California. He was a prominent figure in American literature.\\nSinclair was born in New York City and lived in California. He was a prominent figure in American literature.\\nSinclair was born in New York City and lived in California. He was a prominent figure in American literature.\\nSinclair was born in New\\\" fits the correct answer?\"\n",
      "                },\n",
      "                {\n",
      "                    \"role\": \"assistant\",\n",
      "                    \"content\": \"False\"\n",
      "                }\n",
      "            ]\n",
      "        }\n",
      "    ],\n",
      "    [\n",
      "        {\n",
      "            \"generated_text\": [\n",
      "                {\n",
      "                    \"role\": \"system\",\n",
      "                    \"content\": \"For the following query give response as True or False, nothing more.\"\n",
      "                },\n",
      "                {\n",
      "                    \"role\": \"user\",\n",
      "                    \"content\": \"For the question \\\"Which American-born Sinclair won the Nobel Prize for Literature in 1930?\\\", the correct answer is \\\"sinclair lewis\\\". Does the response \\\"Which American-born Sinclair won the Nobel Prize for Literature in 1930? Sinclair was born in New York City and lived in California. He was a prominent figure in American literature.\\nSinclair was awarded the Nobel Prize for Literature in 1930. He was born in New York City and lived in California. He was a prominent figure in American literature.\\nSinclair was born in New York City and lived in California. He was a prominent figure in American literature.\\nSinclair was born in New York City and lived in California. He was a prominent figure in American literature.\\nSinclair was born in New York City and lived in California. He was a prominent figure in American literature.\\nSinclair was born in New\\\" fits the correct answer?\"\n",
      "                },\n",
      "                {\n",
      "                    \"role\": \"assistant\",\n",
      "                    \"content\": \"False\"\n",
      "                }\n",
      "            ]\n",
      "        }\n",
      "    ],\n",
      "    [\n",
      "        {\n",
      "            \"generated_text\": [\n",
      "                {\n",
      "                    \"role\": \"system\",\n",
      "                    \"content\": \"For the following query give response as True or False, nothing more.\"\n",
      "                },\n",
      "                {\n",
      "                    \"role\": \"user\",\n",
      "                    \"content\": \"For the question \\\"Which American-born Sinclair won the Nobel Prize for Literature in 1930?\\\", the correct answer is \\\"sinclair lewis\\\". Does the response \\\"Which American-born Sinclair won the Nobel Prize for Literature in 1930? Sinclair was born in New York City and lived in California. He was a prominent figure in American literature.\\nSinclair was awarded the Nobel Prize for Literature in 1930. He was born in New York City and lived in California. He was a prominent figure in American literature.\\nSinclair was born in New York City and lived in California. He was a prominent figure in American literature.\\nSinclair was born in New York City and lived in California. He was a prominent figure in American literature.\\nSinclair was born in New York City and lived in California. He was a prominent figure in American literature.\\nSinclair was born in New\\\" fits the correct answer?\"\n",
      "                },\n",
      "                {\n",
      "                    \"role\": \"assistant\",\n",
      "                    \"content\": \"False\"\n",
      "                }\n",
      "            ]\n",
      "        }\n",
      "    ],\n",
      "    [\n",
      "        {\n",
      "            \"generated_text\": [\n",
      "                {\n",
      "                    \"role\": \"system\",\n",
      "                    \"content\": \"For the following query give response as True or False, nothing more.\"\n",
      "                },\n",
      "                {\n",
      "                    \"role\": \"user\",\n",
      "                    \"content\": \"For the question \\\"Which American-born Sinclair won the Nobel Prize for Literature in 1930?\\\", the correct answer is \\\"sinclair lewis\\\". Does the response \\\"Which American-born Sinclair won the Nobel Prize for Literature in 1930? Sinclair was born in New York City and lived in California. He was a prominent figure in American literature.\\nSinclair was awarded the Nobel Prize for Literature in 1930. He was born in New York City and lived in California. He was a prominent figure in American literature.\\nSinclair was born in New York City and lived in California. He was a prominent figure in American literature.\\nSinclair was born in New York City and lived in California. He was a prominent figure in American literature.\\nSinclair was born in New York City and lived in California. He was a prominent figure in American literature.\\nSinclair was born in New\\\" fits the correct answer?\"\n",
      "                },\n",
      "                {\n",
      "                    \"role\": \"assistant\",\n",
      "                    \"content\": \"False\"\n",
      "                }\n",
      "            ]\n",
      "        }\n",
      "    ],\n",
      "    [\n",
      "        {\n",
      "            \"generated_text\": [\n",
      "                {\n",
      "                    \"role\": \"system\",\n",
      "                    \"content\": \"For the following query give response as True or False, nothing more.\"\n",
      "                },\n",
      "                {\n",
      "                    \"role\": \"user\",\n",
      "                    \"content\": \"For the question \\\"Which American-born Sinclair won the Nobel Prize for Literature in 1930?\\\", the correct answer is \\\"sinclair lewis\\\". Does the response \\\"Which American-born Sinclair won the Nobel Prize for Literature in 1930? Sinclair was born in New York City and lived in California. He was a prominent figure in American literature.\\nSinclair was awarded the Nobel Prize for Literature in 1930. He was born in New York City and lived in California. He was a prominent figure in American literature.\\nSinclair was born in New York City and lived in California. He was a prominent figure in American literature.\\nSinclair was born in New York City and lived in California. He was a prominent figure in American literature.\\nSinclair was born in New York City and lived in California. He was a prominent figure in American literature.\\nSinclair was born in New\\\" fits the correct answer?\"\n",
      "                },\n",
      "                {\n",
      "                    \"role\": \"assistant\",\n",
      "                    \"content\": \"False\"\n",
      "                }\n",
      "            ]\n",
      "        }\n",
      "    ],\n",
      "    [\n",
      "        {\n",
      "            \"generated_text\": [\n",
      "                {\n",
      "                    \"role\": \"system\",\n",
      "                    \"content\": \"For the following query give response as True or False, nothing more.\"\n",
      "                },\n",
      "                {\n",
      "                    \"role\": \"user\",\n",
      "                    \"content\": \"For the question \\\"Which American-born Sinclair won the Nobel Prize for Literature in 1930?\\\", the correct answer is \\\"sinclair lewis\\\". Does the response \\\"Which American-born Sinclair won the Nobel Prize for Literature in 1930? Sinclair was born in New York City and lived in California. He was a prominent figure in American literature.\\nSinclair was awarded the Nobel Prize for Literature in 1930. He was born in New York City and lived in California. He was a prominent figure in American literature.\\nSinclair was born in New York City and lived in California. He was a prominent figure in American literature.\\nSinclair was born in New York City and lived in California. He was a prominent figure in American literature.\\nSinclair was born in New York City and lived in California. He was a prominent figure in American literature.\\nSinclair was born in New\\\" fits the correct answer?\"\n",
      "                },\n",
      "                {\n",
      "                    \"role\": \"assistant\",\n",
      "                    \"content\": \"False\"\n",
      "                }\n",
      "            ]\n",
      "        }\n",
      "    ],\n",
      "    [\n",
      "        {\n",
      "            \"generated_text\": [\n",
      "                {\n",
      "                    \"role\": \"system\",\n",
      "                    \"content\": \"For the following query give response as True or False, nothing more.\"\n",
      "                },\n",
      "                {\n",
      "                    \"role\": \"user\",\n",
      "                    \"content\": \"For the question \\\"Which American-born Sinclair won the Nobel Prize for Literature in 1930?\\\", the correct answer is \\\"sinclair lewis\\\". Does the response \\\"Which American-born Sinclair won the Nobel Prize for Literature in 1930? Sinclair was born in New York City and lived in California. He was a prominent figure in American literature.\\nSinclair was awarded the Nobel Prize for Literature in 1930. He was born in New York City and lived in California. He was a prominent figure in American literature.\\nSinclair was born in New York City and lived in California. He was a prominent figure in American literature.\\nSinclair was born in New York City and lived in California. He was a prominent figure in American literature.\\nSinclair was born in New York City and lived in California. He was a prominent figure in American literature.\\nSinclair was born in New\\\" fits the correct answer?\"\n",
      "                },\n",
      "                {\n",
      "                    \"role\": \"assistant\",\n",
      "                    \"content\": \"False\"\n",
      "                }\n",
      "            ]\n",
      "        }\n",
      "    ],\n",
      "    [\n",
      "        {\n",
      "            \"generated_text\": [\n",
      "                {\n",
      "                    \"role\": \"system\",\n",
      "                    \"content\": \"For the following query give response as True or False, nothing more.\"\n",
      "                },\n",
      "                {\n",
      "                    \"role\": \"user\",\n",
      "                    \"content\": \"For the question \\\"Which American-born Sinclair won the Nobel Prize for Literature in 1930?\\\", the correct answer is \\\"sinclair lewis\\\". Does the response \\\"Which American-born Sinclair won the Nobel Prize for Literature in 1930? Sinclair was born in New York City and lived in California. He was a prominent figure in American literature.\\nSinclair was awarded the Nobel Prize for Literature in 1930. He was born in New York City and lived in California. He was a prominent figure in American literature.\\nSinclair was born in New York City and lived in California. He was a prominent figure in American literature.\\nSinclair was born in New York City and lived in California. He was a prominent figure in American literature.\\nSinclair was born in New York City and lived in California. He was a prominent figure in American literature.\\nSinclair was born in New\\\" fits the correct answer?\"\n",
      "                },\n",
      "                {\n",
      "                    \"role\": \"assistant\",\n",
      "                    \"content\": \"False\"\n",
      "                }\n",
      "            ]\n",
      "        }\n",
      "    ],\n",
      "    [\n",
      "        {\n",
      "            \"generated_text\": [\n",
      "                {\n",
      "                    \"role\": \"system\",\n",
      "                    \"content\": \"For the following query give response as True or False, nothing more.\"\n",
      "                },\n",
      "                {\n",
      "                    \"role\": \"user\",\n",
      "                    \"content\": \"For the question \\\"Which American-born Sinclair won the Nobel Prize for Literature in 1930?\\\", the correct answer is \\\"sinclair lewis\\\". Does the response \\\"Which American-born Sinclair won the Nobel Prize for Literature in 1930? Sinclair was born in New York City and lived in California. He was a prominent figure in American literature.\\nSinclair was awarded the Nobel Prize for Literature in 1930. He was born in New York City and lived in California. He was a prominent figure in American literature.\\nSinclair was born in New York City and lived in California. He was a prominent figure in American literature.\\nSinclair was born in New York City and lived in California. He was a prominent figure in American literature.\\nSinclair was born in New York City and lived in California. He was a prominent figure in American literature.\\nSinclair was born in New\\\" fits the correct answer?\"\n",
      "                },\n",
      "                {\n",
      "                    \"role\": \"assistant\",\n",
      "                    \"content\": \"False\"\n",
      "                }\n",
      "            ]\n",
      "        }\n",
      "    ],\n",
      "    [\n",
      "        {\n",
      "            \"generated_text\": [\n",
      "                {\n",
      "                    \"role\": \"system\",\n",
      "                    \"content\": \"For the following query give response as True or False, nothing more.\"\n",
      "                },\n",
      "                {\n",
      "                    \"role\": \"user\",\n",
      "                    \"content\": \"For the question \\\"Which American-born Sinclair won the Nobel Prize for Literature in 1930?\\\", the correct answer is \\\"sinclair lewis\\\". Does the response \\\"Which American-born Sinclair won the Nobel Prize for Literature in 1930? Sinclair was born in New York City and lived in California. He was a prominent figure in American literature.\\nSinclair was awarded the Nobel Prize for Literature in 1930. He was born in New York City and lived in California. He was a prominent figure in American literature.\\nSinclair was born in New York City and lived in California. He was a prominent figure in American literature.\\nSinclair was born in New York City and lived in California. He was a prominent figure in American literature.\\nSinclair was born in New York City and lived in California. He was a prominent figure in American literature.\\nSinclair was born in New\\\" fits the correct answer?\"\n",
      "                },\n",
      "                {\n",
      "                    \"role\": \"assistant\",\n",
      "                    \"content\": \"False\"\n",
      "                }\n",
      "            ]\n",
      "        }\n",
      "    ],\n",
      "    [\n",
      "        {\n",
      "            \"generated_text\": [\n",
      "                {\n",
      "                    \"role\": \"system\",\n",
      "                    \"content\": \"For the following query give response as True or False, nothing more.\"\n",
      "                },\n",
      "                {\n",
      "                    \"role\": \"user\",\n",
      "                    \"content\": \"For the question \\\"Which American-born Sinclair won the Nobel Prize for Literature in 1930?\\\", the correct answer is \\\"sinclair lewis\\\". Does the response \\\"Which American-born Sinclair won the Nobel Prize for Literature in 1930? Sinclair was born in New York City and lived in California. He was a prominent figure in American literature.\\nSinclair was awarded the Nobel Prize for Literature in 1930. He was born in New York City and lived in California. He was a prominent figure in American literature.\\nSinclair was born in New York City and lived in California. He was a prominent figure in American literature.\\nSinclair was born in New York City and lived in California. He was a prominent figure in American literature.\\nSinclair was born in New York City and lived in California. He was a prominent figure in American literature.\\nSinclair was born in New\\\" fits the correct answer?\"\n",
      "                },\n",
      "                {\n",
      "                    \"role\": \"assistant\",\n",
      "                    \"content\": \"False\"\n",
      "                }\n",
      "            ]\n",
      "        }\n",
      "    ],\n",
      "    [\n",
      "        {\n",
      "            \"generated_text\": [\n",
      "                {\n",
      "                    \"role\": \"system\",\n",
      "                    \"content\": \"For the following query give response as True or False, nothing more.\"\n",
      "                },\n",
      "                {\n",
      "                    \"role\": \"user\",\n",
      "                    \"content\": \"For the question \\\"Which American-born Sinclair won the Nobel Prize for Literature in 1930?\\\", the correct answer is \\\"sinclair lewis\\\". Does the response \\\"Which American-born Sinclair won the Nobel Prize for Literature in 1930? Sinclair was born in New York City and lived in California. He was a prominent figure in American literature.\\nSinclair was awarded the Nobel Prize for Literature in 1930. He was born in New York City and lived in California. He was a prominent figure in American literature.\\nSinclair was born in New York City and lived in California. He was a prominent figure in American literature.\\nSinclair was born in New York City and lived in California. He was a prominent figure in American literature.\\nSinclair was born in New York City and lived in California. He was a prominent figure in American literature.\\nSinclair was born in New\\\" fits the correct answer?\"\n",
      "                },\n",
      "                {\n",
      "                    \"role\": \"assistant\",\n",
      "                    \"content\": \"False\"\n",
      "                }\n",
      "            ]\n",
      "        }\n",
      "    ],\n",
      "    [\n",
      "        {\n",
      "            \"generated_text\": [\n",
      "                {\n",
      "                    \"role\": \"system\",\n",
      "                    \"content\": \"For the following query give response as True or False, nothing more.\"\n",
      "                },\n",
      "                {\n",
      "                    \"role\": \"user\",\n",
      "                    \"content\": \"For the question \\\"Which American-born Sinclair won the Nobel Prize for Literature in 1930?\\\", the correct answer is \\\"sinclair lewis\\\". Does the response \\\"Which American-born Sinclair won the Nobel Prize for Literature in 1930? Sinclair was born in New York City and lived in California. He was a prominent figure in American literature.\\nSinclair was awarded the Nobel Prize for Literature in 1930. He was born in New York City and lived in California. He was a prominent figure in American literature.\\nSinclair was born in New York City and lived in California. He was a prominent figure in American literature.\\nSinclair was born in New York City and lived in California. He was a prominent figure in American literature.\\nSinclair was born in New York City and lived in California. He was a prominent figure in American literature.\\nSinclair was born in New\\\" fits the correct answer?\"\n",
      "                },\n",
      "                {\n",
      "                    \"role\": \"assistant\",\n",
      "                    \"content\": \"False\"\n",
      "                }\n",
      "            ]\n",
      "        }\n",
      "    ],\n",
      "    [\n",
      "        {\n",
      "            \"generated_text\": [\n",
      "                {\n",
      "                    \"role\": \"system\",\n",
      "                    \"content\": \"For the following query give response as True or False, nothing more.\"\n",
      "                },\n",
      "                {\n",
      "                    \"role\": \"user\",\n",
      "                    \"content\": \"For the question \\\"Which American-born Sinclair won the Nobel Prize for Literature in 1930?\\\", the correct answer is \\\"sinclair lewis\\\". Does the response \\\"Which American-born Sinclair won the Nobel Prize for Literature in 1930? Sinclair was born in New York City and lived in California. He was a prominent figure in American literature.\\nSinclair was awarded the Nobel Prize for Literature in 1930. He was born in New York City and lived in California. He was a prominent figure in American literature.\\nSinclair was born in New York City and lived in California. He was a prominent figure in American literature.\\nSinclair was born in New York City and lived in California. He was a prominent figure in American literature.\\nSinclair was born in New York City and lived in California. He was a prominent figure in American literature.\\nSinclair was born in New\\\" fits the correct answer?\"\n",
      "                },\n",
      "                {\n",
      "                    \"role\": \"assistant\",\n",
      "                    \"content\": \"False\"\n",
      "                }\n",
      "            ]\n",
      "        }\n",
      "    ],\n",
      "    [\n",
      "        {\n",
      "            \"generated_text\": [\n",
      "                {\n",
      "                    \"role\": \"system\",\n",
      "                    \"content\": \"For the following query give response as True or False, nothing more.\"\n",
      "                },\n",
      "                {\n",
      "                    \"role\": \"user\",\n",
      "                    \"content\": \"For the question \\\"Which American-born Sinclair won the Nobel Prize for Literature in 1930?\\\", the correct answer is \\\"sinclair lewis\\\". Does the response \\\"Which American-born Sinclair won the Nobel Prize for Literature in 1930? Sinclair was born in New York City and lived in California. He was a prominent figure in American literature.\\nSinclair was awarded the Nobel Prize for Literature in 1930. He was born in New York City and lived in California. He was a prominent figure in American literature.\\nSinclair was born in New York City and lived in California. He was a prominent figure in American literature.\\nSinclair was born in New York City and lived in California. He was a prominent figure in American literature.\\nSinclair was born in New York City and lived in California. He was a prominent figure in American literature.\\nSinclair was born in New\\\" fits the correct answer?\"\n",
      "                },\n",
      "                {\n",
      "                    \"role\": \"assistant\",\n",
      "                    \"content\": \"False\"\n",
      "                }\n",
      "            ]\n",
      "        }\n",
      "    ],\n",
      "    [\n",
      "        {\n",
      "            \"generated_text\": [\n",
      "                {\n",
      "                    \"role\": \"system\",\n",
      "                    \"content\": \"For the following query give response as True or False, nothing more.\"\n",
      "                },\n",
      "                {\n",
      "                    \"role\": \"user\",\n",
      "                    \"content\": \"For the question \\\"Which American-born Sinclair won the Nobel Prize for Literature in 1930?\\\", the correct answer is \\\"sinclair lewis\\\". Does the response \\\"Which American-born Sinclair won the Nobel Prize for Literature in 1930? Sinclair was born in New York City and lived in California. He was a prominent figure in American literature.\\nSinclair was awarded the Nobel Prize for Literature in 1930. He was born in New York City and lived in California. He was a prominent figure in American literature.\\nSinclair was born in New York City and lived in California. He was a prominent figure in American literature.\\nSinclair was born in New York City and lived in California. He was a prominent figure in American literature.\\nSinclair was born in New York City and lived in California. He was a prominent figure in American literature.\\nSinclair was born in New\\\" fits the correct answer?\"\n",
      "                },\n",
      "                {\n",
      "                    \"role\": \"assistant\",\n",
      "                    \"content\": \"False\"\n",
      "                }\n",
      "            ]\n",
      "        }\n",
      "    ],\n",
      "    [\n",
      "        {\n",
      "            \"generated_text\": [\n",
      "                {\n",
      "                    \"role\": \"system\",\n",
      "                    \"content\": \"For the following query give response as True or False, nothing more.\"\n",
      "                },\n",
      "                {\n",
      "                    \"role\": \"user\",\n",
      "                    \"content\": \"For the question \\\"Which American-born Sinclair won the Nobel Prize for Literature in 1930?\\\", the correct answer is \\\"sinclair lewis\\\". Does the response \\\"Which American-born Sinclair won the Nobel Prize for Literature in 1930? Sinclair was born in New York City and lived in California. He was a prominent figure in American literature.\\nSinclair was awarded the Nobel Prize for Literature in 1930. He was born in New York City and lived in California. He was a prominent figure in American literature.\\nSinclair was born in New York City and lived in California. He was a prominent figure in American literature.\\nSinclair was born in New York City and lived in California. He was a prominent figure in American literature.\\nSinclair was born in New York City and lived in California. He was a prominent figure in American literature.\\nSinclair was born in New\\\" fits the correct answer?\"\n",
      "                },\n",
      "                {\n",
      "                    \"role\": \"assistant\",\n",
      "                    \"content\": \"False\"\n",
      "                }\n",
      "            ]\n",
      "        }\n",
      "    ],\n",
      "    [\n",
      "        {\n",
      "            \"generated_text\": [\n",
      "                {\n",
      "                    \"role\": \"system\",\n",
      "                    \"content\": \"For the following query give response as True or False, nothing more.\"\n",
      "                },\n",
      "                {\n",
      "                    \"role\": \"user\",\n",
      "                    \"content\": \"For the question \\\"Which American-born Sinclair won the Nobel Prize for Literature in 1930?\\\", the correct answer is \\\"sinclair lewis\\\". Does the response \\\"Which American-born Sinclair won the Nobel Prize for Literature in 1930? Sinclair was born in New York City and lived in California. He was a prominent figure in American literature.\\nSinclair was awarded the Nobel Prize for Literature in 1930. He was born in New York City and lived in California. He was a prominent figure in American literature.\\nSinclair was born in New York City and lived in California. He was a prominent figure in American literature.\\nSinclair was born in New York City and lived in California. He was a prominent figure in American literature.\\nSinclair was born in New York City and lived in California. He was a prominent figure in American literature.\\nSinclair was born in New\\\" fits the correct answer?\"\n",
      "                },\n",
      "                {\n",
      "                    \"role\": \"assistant\",\n",
      "                    \"content\": \"False\"\n",
      "                }\n",
      "            ]\n",
      "        }\n",
      "    ],\n",
      "    [\n",
      "        {\n",
      "            \"generated_text\": [\n",
      "                {\n",
      "                    \"role\": \"system\",\n",
      "                    \"content\": \"For the following query give response as True or False, nothing more.\"\n",
      "                },\n",
      "                {\n",
      "                    \"role\": \"user\",\n",
      "                    \"content\": \"For the question \\\"Which American-born Sinclair won the Nobel Prize for Literature in 1930?\\\", the correct answer is \\\"sinclair lewis\\\". Does the response \\\"Which American-born Sinclair won the Nobel Prize for Literature in 1930? Sinclair was born in New York City and lived in California. He was a prominent figure in American literature.\\nSinclair was awarded the Nobel Prize for Literature in 1930. He was born in New York City and lived in California. He was a prominent figure in American literature.\\nSinclair was born in New York City and lived in California. He was a prominent figure in American literature.\\nSinclair was born in New York City and lived in California. He was a prominent figure in American literature.\\nSinclair was born in New York City and lived in California. He was a prominent figure in American literature.\\nSinclair was born in New\\\" fits the correct answer?\"\n",
      "                },\n",
      "                {\n",
      "                    \"role\": \"assistant\",\n",
      "                    \"content\": \"False\"\n",
      "                }\n",
      "            ]\n",
      "        }\n",
      "    ],\n",
      "    [\n",
      "        {\n",
      "            \"generated_text\": [\n",
      "                {\n",
      "                    \"role\": \"system\",\n",
      "                    \"content\": \"For the following query give response as True or False, nothing more.\"\n",
      "                },\n",
      "                {\n",
      "                    \"role\": \"user\",\n",
      "                    \"content\": \"For the question \\\"Which American-born Sinclair won the Nobel Prize for Literature in 1930?\\\", the correct answer is \\\"sinclair lewis\\\". Does the response \\\"Which American-born Sinclair won the Nobel Prize for Literature in 1930? Sinclair was born in New York City and lived in California. He was a prominent figure in American literature.\\nSinclair was awarded the Nobel Prize for Literature in 1930. He was born in New York City and lived in California. He was a prominent figure in American literature.\\nSinclair was born in New York City and lived in California. He was a prominent figure in American literature.\\nSinclair was born in New York City and lived in California. He was a prominent figure in American literature.\\nSinclair was born in New York City and lived in California. He was a prominent figure in American literature.\\nSinclair was born in New\\\" fits the correct answer?\"\n",
      "                },\n",
      "                {\n",
      "                    \"role\": \"assistant\",\n",
      "                    \"content\": \"False\"\n",
      "                }\n",
      "            ]\n",
      "        }\n",
      "    ]\n",
      "]\n"
     ]
    },
    {
     "data": {
      "text/plain": [
       "[0.0, 0.32, 0.0]"
      ]
     },
     "execution_count": 86,
     "metadata": {},
     "output_type": "execute_result"
    }
   ],
   "source": [
    "verify_response_via_judge_model(ds_100_generations, idx=1)"
   ]
  },
  {
   "cell_type": "markdown",
   "metadata": {},
   "source": [
    "## Too slow"
   ]
  },
  {
   "cell_type": "code",
   "execution_count": 68,
   "metadata": {},
   "outputs": [
    {
     "name": "stderr",
     "output_type": "stream",
     "text": [
      "  1%|▏         | 68/5000 [03:09<3:49:19,  2.79s/it]\n"
     ]
    },
    {
     "ename": "KeyboardInterrupt",
     "evalue": "",
     "output_type": "error",
     "traceback": [
      "\u001b[31m---------------------------------------------------------------------------\u001b[39m",
      "\u001b[31mKeyboardInterrupt\u001b[39m                         Traceback (most recent call last)",
      "\u001b[36mCell\u001b[39m\u001b[36m \u001b[39m\u001b[32mIn[68]\u001b[39m\u001b[32m, line 8\u001b[39m\n\u001b[32m      1\u001b[39m generation_accuracies = {\n\u001b[32m      2\u001b[39m     \u001b[33m'\u001b[39m\u001b[33mbfloat16\u001b[39m\u001b[33m'\u001b[39m: [],\n\u001b[32m      3\u001b[39m     \u001b[33m'\u001b[39m\u001b[33mint8\u001b[39m\u001b[33m'\u001b[39m: [],\n\u001b[32m      4\u001b[39m     \u001b[33m'\u001b[39m\u001b[33mint4\u001b[39m\u001b[33m'\u001b[39m: []\n\u001b[32m      5\u001b[39m }\n\u001b[32m      7\u001b[39m \u001b[38;5;28;01mfor\u001b[39;00m idx \u001b[38;5;129;01min\u001b[39;00m tqdm(\u001b[38;5;28mrange\u001b[39m(\u001b[38;5;28mlen\u001b[39m(ds_100_generations))):\n\u001b[32m----> \u001b[39m\u001b[32m8\u001b[39m     response_accuracies = \u001b[43mverify_response_via_judge_model\u001b[49m\u001b[43m(\u001b[49m\u001b[43mds_100_generations\u001b[49m\u001b[43m,\u001b[49m\u001b[43m \u001b[49m\u001b[43midx\u001b[49m\u001b[43m=\u001b[49m\u001b[43midx\u001b[49m\u001b[43m)\u001b[49m\n\u001b[32m      9\u001b[39m     generation_accuracies[\u001b[33m'\u001b[39m\u001b[33mbfloat16\u001b[39m\u001b[33m'\u001b[39m].append(response_accuracies[\u001b[32m0\u001b[39m])\n\u001b[32m     10\u001b[39m     generation_accuracies[\u001b[33m'\u001b[39m\u001b[33mint8\u001b[39m\u001b[33m'\u001b[39m].append(response_accuracies[\u001b[32m1\u001b[39m])\n",
      "\u001b[36mCell\u001b[39m\u001b[36m \u001b[39m\u001b[32mIn[63]\u001b[39m\u001b[32m, line 19\u001b[39m, in \u001b[36mverify_response_via_judge_model\u001b[39m\u001b[34m(ds, idx, verification_samples)\u001b[39m\n\u001b[32m     11\u001b[39m response = row[key]\n\u001b[32m     13\u001b[39m response_item = [\n\u001b[32m     14\u001b[39m     {\u001b[33m'\u001b[39m\u001b[33mrole\u001b[39m\u001b[33m'\u001b[39m: \u001b[33m'\u001b[39m\u001b[33msystem\u001b[39m\u001b[33m'\u001b[39m, \u001b[33m'\u001b[39m\u001b[33mcontent\u001b[39m\u001b[33m'\u001b[39m: \u001b[33m'\u001b[39m\u001b[33mFor the following query give response as True or False, nothing more.\u001b[39m\u001b[33m'\u001b[39m},\n\u001b[32m     15\u001b[39m     \u001b[38;5;66;03m# {'role': 'user', 'content': f'Does \"{ds_100[0]['answer']['normalized_value']}\" appears in the following text \"{responses[0]['generated_text'][-1]['content']}\"'}\u001b[39;00m\n\u001b[32m     16\u001b[39m     {\u001b[33m'\u001b[39m\u001b[33mrole\u001b[39m\u001b[33m'\u001b[39m: \u001b[33m'\u001b[39m\u001b[33muser\u001b[39m\u001b[33m'\u001b[39m, \u001b[33m'\u001b[39m\u001b[33mcontent\u001b[39m\u001b[33m'\u001b[39m: \u001b[33mf\u001b[39m\u001b[33m'\u001b[39m\u001b[33mFor the question \u001b[39m\u001b[33m\"\u001b[39m\u001b[38;5;132;01m{\u001b[39;00mquestion\u001b[38;5;132;01m}\u001b[39;00m\u001b[33m\"\u001b[39m\u001b[33m, the correct answer is \u001b[39m\u001b[33m\"\u001b[39m\u001b[38;5;132;01m{\u001b[39;00mnormalized_answer\u001b[38;5;132;01m}\u001b[39;00m\u001b[33m\"\u001b[39m\u001b[33m. Does the response \u001b[39m\u001b[33m\"\u001b[39m\u001b[38;5;132;01m{\u001b[39;00mresponse\u001b[38;5;132;01m}\u001b[39;00m\u001b[33m\"\u001b[39m\u001b[33m fits the correct answer?\u001b[39m\u001b[33m'\u001b[39m}\n\u001b[32m     17\u001b[39m ]\n\u001b[32m---> \u001b[39m\u001b[32m19\u001b[39m verification_responses = \u001b[43mjudge_pipe\u001b[49m\u001b[43m(\u001b[49m\u001b[43m[\u001b[49m\u001b[43mresponse_item\u001b[49m\u001b[43m]\u001b[49m\u001b[43m \u001b[49m\u001b[43m*\u001b[49m\u001b[43m \u001b[49m\u001b[43mverification_samples\u001b[49m\u001b[43m,\u001b[49m\u001b[43m \u001b[49m\u001b[43mpad_token_id\u001b[49m\u001b[43m \u001b[49m\u001b[43m=\u001b[49m\u001b[43m \u001b[49m\u001b[43m_tokenizer\u001b[49m\u001b[43m.\u001b[49m\u001b[43mpad_token_id\u001b[49m\u001b[43m)\u001b[49m\n\u001b[32m     21\u001b[39m accuracy_score = \u001b[38;5;28msum\u001b[39m(\u001b[38;5;28mint\u001b[39m(veri_response[\u001b[32m0\u001b[39m][\u001b[33m'\u001b[39m\u001b[33mgenerated_text\u001b[39m\u001b[33m'\u001b[39m][-\u001b[32m1\u001b[39m][\u001b[33m'\u001b[39m\u001b[33mcontent\u001b[39m\u001b[33m'\u001b[39m].lower() == \u001b[33m'\u001b[39m\u001b[33mtrue\u001b[39m\u001b[33m'\u001b[39m) \u001b[38;5;28;01mfor\u001b[39;00m veri_response \u001b[38;5;129;01min\u001b[39;00m verification_responses) / verification_samples\n\u001b[32m     22\u001b[39m response_accuracies.append(accuracy_score)\n",
      "\u001b[36mFile \u001b[39m\u001b[32m~/miniconda3/envs/SRAI_Project/lib/python3.13/site-packages/transformers/pipelines/text_generation.py:286\u001b[39m, in \u001b[36mTextGenerationPipeline.__call__\u001b[39m\u001b[34m(self, text_inputs, **kwargs)\u001b[39m\n\u001b[32m    284\u001b[39m                 \u001b[38;5;28;01mreturn\u001b[39;00m \u001b[38;5;28msuper\u001b[39m().\u001b[34m__call__\u001b[39m(chats, **kwargs)\n\u001b[32m    285\u001b[39m             \u001b[38;5;28;01melse\u001b[39;00m:\n\u001b[32m--> \u001b[39m\u001b[32m286\u001b[39m                 \u001b[38;5;28;01mreturn\u001b[39;00m \u001b[38;5;28;43msuper\u001b[39;49m\u001b[43m(\u001b[49m\u001b[43m)\u001b[49m\u001b[43m.\u001b[49m\u001b[34;43m__call__\u001b[39;49m\u001b[43m(\u001b[49m\u001b[38;5;28;43mlist\u001b[39;49m\u001b[43m(\u001b[49m\u001b[43mchats\u001b[49m\u001b[43m)\u001b[49m\u001b[43m,\u001b[49m\u001b[43m \u001b[49m\u001b[43m*\u001b[49m\u001b[43m*\u001b[49m\u001b[43mkwargs\u001b[49m\u001b[43m)\u001b[49m\n\u001b[32m    287\u001b[39m \u001b[38;5;28;01mreturn\u001b[39;00m \u001b[38;5;28msuper\u001b[39m().\u001b[34m__call__\u001b[39m(text_inputs, **kwargs)\n",
      "\u001b[36mFile \u001b[39m\u001b[32m~/miniconda3/envs/SRAI_Project/lib/python3.13/site-packages/transformers/pipelines/base.py:1349\u001b[39m, in \u001b[36mPipeline.__call__\u001b[39m\u001b[34m(self, inputs, num_workers, batch_size, *args, **kwargs)\u001b[39m\n\u001b[32m   1345\u001b[39m \u001b[38;5;28;01mif\u001b[39;00m can_use_iterator:\n\u001b[32m   1346\u001b[39m     final_iterator = \u001b[38;5;28mself\u001b[39m.get_iterator(\n\u001b[32m   1347\u001b[39m         inputs, num_workers, batch_size, preprocess_params, forward_params, postprocess_params\n\u001b[32m   1348\u001b[39m     )\n\u001b[32m-> \u001b[39m\u001b[32m1349\u001b[39m     outputs = \u001b[38;5;28;43mlist\u001b[39;49m\u001b[43m(\u001b[49m\u001b[43mfinal_iterator\u001b[49m\u001b[43m)\u001b[49m\n\u001b[32m   1350\u001b[39m     \u001b[38;5;28;01mreturn\u001b[39;00m outputs\n\u001b[32m   1351\u001b[39m \u001b[38;5;28;01melse\u001b[39;00m:\n",
      "\u001b[36mFile \u001b[39m\u001b[32m~/miniconda3/envs/SRAI_Project/lib/python3.13/site-packages/transformers/pipelines/pt_utils.py:124\u001b[39m, in \u001b[36mPipelineIterator.__next__\u001b[39m\u001b[34m(self)\u001b[39m\n\u001b[32m    121\u001b[39m     \u001b[38;5;28;01mreturn\u001b[39;00m \u001b[38;5;28mself\u001b[39m.loader_batch_item()\n\u001b[32m    123\u001b[39m \u001b[38;5;66;03m# We're out of items within a batch\u001b[39;00m\n\u001b[32m--> \u001b[39m\u001b[32m124\u001b[39m item = \u001b[38;5;28;43mnext\u001b[39;49m\u001b[43m(\u001b[49m\u001b[38;5;28;43mself\u001b[39;49m\u001b[43m.\u001b[49m\u001b[43miterator\u001b[49m\u001b[43m)\u001b[49m\n\u001b[32m    125\u001b[39m processed = \u001b[38;5;28mself\u001b[39m.infer(item, **\u001b[38;5;28mself\u001b[39m.params)\n\u001b[32m    126\u001b[39m \u001b[38;5;66;03m# We now have a batch of \"inferred things\".\u001b[39;00m\n",
      "\u001b[36mFile \u001b[39m\u001b[32m~/miniconda3/envs/SRAI_Project/lib/python3.13/site-packages/transformers/pipelines/pt_utils.py:125\u001b[39m, in \u001b[36mPipelineIterator.__next__\u001b[39m\u001b[34m(self)\u001b[39m\n\u001b[32m    123\u001b[39m \u001b[38;5;66;03m# We're out of items within a batch\u001b[39;00m\n\u001b[32m    124\u001b[39m item = \u001b[38;5;28mnext\u001b[39m(\u001b[38;5;28mself\u001b[39m.iterator)\n\u001b[32m--> \u001b[39m\u001b[32m125\u001b[39m processed = \u001b[38;5;28;43mself\u001b[39;49m\u001b[43m.\u001b[49m\u001b[43minfer\u001b[49m\u001b[43m(\u001b[49m\u001b[43mitem\u001b[49m\u001b[43m,\u001b[49m\u001b[43m \u001b[49m\u001b[43m*\u001b[49m\u001b[43m*\u001b[49m\u001b[38;5;28;43mself\u001b[39;49m\u001b[43m.\u001b[49m\u001b[43mparams\u001b[49m\u001b[43m)\u001b[49m\n\u001b[32m    126\u001b[39m \u001b[38;5;66;03m# We now have a batch of \"inferred things\".\u001b[39;00m\n\u001b[32m    127\u001b[39m \u001b[38;5;28;01mif\u001b[39;00m \u001b[38;5;28mself\u001b[39m.loader_batch_size \u001b[38;5;129;01mis\u001b[39;00m \u001b[38;5;129;01mnot\u001b[39;00m \u001b[38;5;28;01mNone\u001b[39;00m:\n\u001b[32m    128\u001b[39m     \u001b[38;5;66;03m# Try to infer the size of the batch\u001b[39;00m\n",
      "\u001b[36mFile \u001b[39m\u001b[32m~/miniconda3/envs/SRAI_Project/lib/python3.13/site-packages/transformers/pipelines/base.py:1275\u001b[39m, in \u001b[36mPipeline.forward\u001b[39m\u001b[34m(self, model_inputs, **forward_params)\u001b[39m\n\u001b[32m   1273\u001b[39m     \u001b[38;5;28;01mwith\u001b[39;00m inference_context():\n\u001b[32m   1274\u001b[39m         model_inputs = \u001b[38;5;28mself\u001b[39m._ensure_tensor_on_device(model_inputs, device=\u001b[38;5;28mself\u001b[39m.device)\n\u001b[32m-> \u001b[39m\u001b[32m1275\u001b[39m         model_outputs = \u001b[38;5;28;43mself\u001b[39;49m\u001b[43m.\u001b[49m\u001b[43m_forward\u001b[49m\u001b[43m(\u001b[49m\u001b[43mmodel_inputs\u001b[49m\u001b[43m,\u001b[49m\u001b[43m \u001b[49m\u001b[43m*\u001b[49m\u001b[43m*\u001b[49m\u001b[43mforward_params\u001b[49m\u001b[43m)\u001b[49m\n\u001b[32m   1276\u001b[39m         model_outputs = \u001b[38;5;28mself\u001b[39m._ensure_tensor_on_device(model_outputs, device=torch.device(\u001b[33m\"\u001b[39m\u001b[33mcpu\u001b[39m\u001b[33m\"\u001b[39m))\n\u001b[32m   1277\u001b[39m \u001b[38;5;28;01melse\u001b[39;00m:\n",
      "\u001b[36mFile \u001b[39m\u001b[32m~/miniconda3/envs/SRAI_Project/lib/python3.13/site-packages/transformers/pipelines/text_generation.py:385\u001b[39m, in \u001b[36mTextGenerationPipeline._forward\u001b[39m\u001b[34m(self, model_inputs, **generate_kwargs)\u001b[39m\n\u001b[32m    382\u001b[39m \u001b[38;5;28;01mif\u001b[39;00m \u001b[33m\"\u001b[39m\u001b[33mgeneration_config\u001b[39m\u001b[33m\"\u001b[39m \u001b[38;5;129;01mnot\u001b[39;00m \u001b[38;5;129;01min\u001b[39;00m generate_kwargs:\n\u001b[32m    383\u001b[39m     generate_kwargs[\u001b[33m\"\u001b[39m\u001b[33mgeneration_config\u001b[39m\u001b[33m\"\u001b[39m] = \u001b[38;5;28mself\u001b[39m.generation_config\n\u001b[32m--> \u001b[39m\u001b[32m385\u001b[39m output = \u001b[38;5;28;43mself\u001b[39;49m\u001b[43m.\u001b[49m\u001b[43mmodel\u001b[49m\u001b[43m.\u001b[49m\u001b[43mgenerate\u001b[49m\u001b[43m(\u001b[49m\u001b[43minput_ids\u001b[49m\u001b[43m=\u001b[49m\u001b[43minput_ids\u001b[49m\u001b[43m,\u001b[49m\u001b[43m \u001b[49m\u001b[43mattention_mask\u001b[49m\u001b[43m=\u001b[49m\u001b[43mattention_mask\u001b[49m\u001b[43m,\u001b[49m\u001b[43m \u001b[49m\u001b[43m*\u001b[49m\u001b[43m*\u001b[49m\u001b[43mgenerate_kwargs\u001b[49m\u001b[43m)\u001b[49m\n\u001b[32m    387\u001b[39m \u001b[38;5;28;01mif\u001b[39;00m \u001b[38;5;28misinstance\u001b[39m(output, ModelOutput):\n\u001b[32m    388\u001b[39m     generated_sequence = output.sequences\n",
      "\u001b[36mFile \u001b[39m\u001b[32m~/miniconda3/envs/SRAI_Project/lib/python3.13/site-packages/torch/utils/_contextlib.py:116\u001b[39m, in \u001b[36mcontext_decorator.<locals>.decorate_context\u001b[39m\u001b[34m(*args, **kwargs)\u001b[39m\n\u001b[32m    113\u001b[39m \u001b[38;5;129m@functools\u001b[39m.wraps(func)\n\u001b[32m    114\u001b[39m \u001b[38;5;28;01mdef\u001b[39;00m\u001b[38;5;250m \u001b[39m\u001b[34mdecorate_context\u001b[39m(*args, **kwargs):\n\u001b[32m    115\u001b[39m     \u001b[38;5;28;01mwith\u001b[39;00m ctx_factory():\n\u001b[32m--> \u001b[39m\u001b[32m116\u001b[39m         \u001b[38;5;28;01mreturn\u001b[39;00m \u001b[43mfunc\u001b[49m\u001b[43m(\u001b[49m\u001b[43m*\u001b[49m\u001b[43margs\u001b[49m\u001b[43m,\u001b[49m\u001b[43m \u001b[49m\u001b[43m*\u001b[49m\u001b[43m*\u001b[49m\u001b[43mkwargs\u001b[49m\u001b[43m)\u001b[49m\n",
      "\u001b[36mFile \u001b[39m\u001b[32m~/miniconda3/envs/SRAI_Project/lib/python3.13/site-packages/transformers/generation/utils.py:2004\u001b[39m, in \u001b[36mGenerationMixin.generate\u001b[39m\u001b[34m(self, inputs, generation_config, logits_processor, stopping_criteria, prefix_allowed_tokens_fn, synced_gpus, assistant_model, streamer, negative_prompt_ids, negative_prompt_attention_mask, **kwargs)\u001b[39m\n\u001b[32m   2001\u001b[39m batch_size = inputs_tensor.shape[\u001b[32m0\u001b[39m]\n\u001b[32m   2003\u001b[39m device = inputs_tensor.device\n\u001b[32m-> \u001b[39m\u001b[32m2004\u001b[39m \u001b[38;5;28;43mself\u001b[39;49m\u001b[43m.\u001b[49m\u001b[43m_prepare_special_tokens\u001b[49m\u001b[43m(\u001b[49m\u001b[43mgeneration_config\u001b[49m\u001b[43m,\u001b[49m\u001b[43m \u001b[49m\u001b[43mkwargs_has_attention_mask\u001b[49m\u001b[43m,\u001b[49m\u001b[43m \u001b[49m\u001b[43mdevice\u001b[49m\u001b[43m=\u001b[49m\u001b[43mdevice\u001b[49m\u001b[43m)\u001b[49m\n\u001b[32m   2006\u001b[39m \u001b[38;5;66;03m# decoder-only models must use left-padding for batched generation.\u001b[39;00m\n\u001b[32m   2007\u001b[39m \u001b[38;5;28;01mif\u001b[39;00m \u001b[38;5;129;01mnot\u001b[39;00m \u001b[38;5;28mself\u001b[39m.config.is_encoder_decoder \u001b[38;5;129;01mand\u001b[39;00m \u001b[38;5;129;01mnot\u001b[39;00m is_torchdynamo_compiling():\n\u001b[32m   2008\u001b[39m     \u001b[38;5;66;03m# If `input_ids` was given, check if the last id in any sequence is `pad_token_id`\u001b[39;00m\n\u001b[32m   2009\u001b[39m     \u001b[38;5;66;03m# Note: If using, `inputs_embeds` this check does not work, because we want to be more hands-off.\u001b[39;00m\n",
      "\u001b[36mFile \u001b[39m\u001b[32m~/miniconda3/envs/SRAI_Project/lib/python3.13/site-packages/transformers/generation/utils.py:1820\u001b[39m, in \u001b[36mGenerationMixin._prepare_special_tokens\u001b[39m\u001b[34m(self, generation_config, kwargs_has_attention_mask, device)\u001b[39m\n\u001b[32m   1817\u001b[39m     \u001b[38;5;28;01mreturn\u001b[39;00m torch.tensor(token, device=device, dtype=torch.long)\n\u001b[32m   1819\u001b[39m bos_token_tensor = _tensor_or_none(generation_config.bos_token_id, device=device)\n\u001b[32m-> \u001b[39m\u001b[32m1820\u001b[39m eos_token_tensor = \u001b[43m_tensor_or_none\u001b[49m\u001b[43m(\u001b[49m\u001b[43mgeneration_config\u001b[49m\u001b[43m.\u001b[49m\u001b[43meos_token_id\u001b[49m\u001b[43m,\u001b[49m\u001b[43m \u001b[49m\u001b[43mdevice\u001b[49m\u001b[43m=\u001b[49m\u001b[43mdevice\u001b[49m\u001b[43m)\u001b[49m\n\u001b[32m   1821\u001b[39m pad_token_tensor = _tensor_or_none(generation_config.pad_token_id, device=device)\n\u001b[32m   1822\u001b[39m decoder_start_token_tensor = _tensor_or_none(generation_config.decoder_start_token_id, device=device)\n",
      "\u001b[36mFile \u001b[39m\u001b[32m~/miniconda3/envs/SRAI_Project/lib/python3.13/site-packages/transformers/generation/utils.py:1817\u001b[39m, in \u001b[36mGenerationMixin._prepare_special_tokens.<locals>._tensor_or_none\u001b[39m\u001b[34m(token, device)\u001b[39m\n\u001b[32m   1815\u001b[39m \u001b[38;5;28;01mif\u001b[39;00m \u001b[38;5;28misinstance\u001b[39m(token, torch.Tensor):\n\u001b[32m   1816\u001b[39m     \u001b[38;5;28;01mreturn\u001b[39;00m token.to(device)\n\u001b[32m-> \u001b[39m\u001b[32m1817\u001b[39m \u001b[38;5;28;01mreturn\u001b[39;00m \u001b[43mtorch\u001b[49m\u001b[43m.\u001b[49m\u001b[43mtensor\u001b[49m\u001b[43m(\u001b[49m\u001b[43mtoken\u001b[49m\u001b[43m,\u001b[49m\u001b[43m \u001b[49m\u001b[43mdevice\u001b[49m\u001b[43m=\u001b[49m\u001b[43mdevice\u001b[49m\u001b[43m,\u001b[49m\u001b[43m \u001b[49m\u001b[43mdtype\u001b[49m\u001b[43m=\u001b[49m\u001b[43mtorch\u001b[49m\u001b[43m.\u001b[49m\u001b[43mlong\u001b[49m\u001b[43m)\u001b[49m\n",
      "\u001b[31mKeyboardInterrupt\u001b[39m: "
     ]
    }
   ],
   "source": [
    "generation_accuracies = {\n",
    "    'bfloat16': [],\n",
    "    'int8': [],\n",
    "    'int4': []\n",
    "}\n",
    "\n",
    "for idx in tqdm(range(len(ds_100_generations))):\n",
    "    response_accuracies = verify_response_via_judge_model(ds_100_generations, idx=idx)\n",
    "    generation_accuracies['bfloat16'].append(response_accuracies[0])\n",
    "    generation_accuracies['int8'].append(response_accuracies[1])\n",
    "    generation_accuracies['int4'].append(response_accuracies[2])\n",
    "\n",
    "torch.cuda.empty_cache()"
   ]
  },
  {
   "cell_type": "markdown",
   "metadata": {},
   "source": [
    "## Loading Bert Score metric"
   ]
  },
  {
   "cell_type": "code",
   "execution_count": 10,
   "metadata": {},
   "outputs": [],
   "source": [
    "bert_score_metric = load('bertscore')"
   ]
  },
  {
   "cell_type": "markdown",
   "metadata": {},
   "source": [
    "#### We choose the best F1 score from the TriviaQA dataset for each sample.\n",
    "So, we repeat the responses to match the references for the bert score metric calculation."
   ]
  },
  {
   "cell_type": "code",
   "execution_count": 12,
   "metadata": {},
   "outputs": [
    {
     "data": {
      "text/plain": [
       "Dataset({\n",
       "    features: ['question', 'question_id', 'question_source', 'entity_pages', 'search_results', 'answer', 'bfloat16_response', 'int8_response', 'int4_response', 'repeat_samples_count'],\n",
       "    num_rows: 5000\n",
       "})"
      ]
     },
     "execution_count": 12,
     "metadata": {},
     "output_type": "execute_result"
    }
   ],
   "source": [
    "possible_answers_count = [len(item['normalized_aliases']) for item in ds_100_generations['answer']]\n",
    "ds_100_generations = ds_100_generations.add_column('repeat_samples_count', possible_answers_count)\n",
    "\n",
    "# ds_100_generations.save_to_disk('ds_100_slice')\n",
    "\n",
    "ds_100_generations"
   ]
  },
  {
   "cell_type": "code",
   "execution_count": 17,
   "metadata": {},
   "outputs": [],
   "source": [
    "ds_100_generations = load_from_disk('ds_100_slice')"
   ]
  },
  {
   "cell_type": "markdown",
   "metadata": {},
   "source": [
    "### A possible problem with BERTScore???"
   ]
  },
  {
   "cell_type": "code",
   "execution_count": 15,
   "metadata": {},
   "outputs": [
    {
     "name": "stdout",
     "output_type": "stream",
     "text": [
      " Harry Truman\n",
      "When the first Peanuts cartoon was published in 1950, President Harry Truman was in office.\n",
      "The cartoon was created by Charles M. Schulz and was first published in the Washington Post on October 2, 1950. It was later syndicated and became a huge success. The cartoon was originally called \"Li'l Folks\" and was later renamed \"Peanuts.\" It was known for its humorous and relatable portrayal of everyday life and its characters, including Charlie Brown, Snoopy, Lucy, and Linus. The cartoon was a huge success and became a cultural phenomenon, running for over 50\n",
      "['presidency of harry s truman', '33rd president of united states', 'truman administration', 's truman', 'mr citizen', 'harry truman s', 'harry truman', 'hary truman', 'harry shipp truman', 'h truman', 'harry shippe truman', 'h s truman', 'president truman', 'president harry truman', 'hst president', 'presidency of harry truman', 'mary jane truman', 'harry solomon truman', 'harold truman', 'harry s truman']\n",
      "[0.7831015586853027, 0.7756546139717102, 0.7888959646224976, 0.7794985175132751, 0.7669883370399475, 0.766680121421814, 0.7634366154670715, 0.7664138078689575, 0.7635408043861389, 0.7758344411849976, 0.7642509937286377, 0.7658158540725708, 0.7832732796669006, 0.7898043990135193, 0.7696768641471863, 0.7915093898773193, 0.7681419849395752, 0.7634735703468323, 0.7697431445121765, 0.7656630277633667]\n"
     ]
    }
   ],
   "source": [
    "bert_score_entries = []\n",
    "\n",
    "for item in ds_100_generations.select_columns(['question', 'answer', 'bfloat16_response', 'int8_response', 'int4_response', 'repeat_samples_count']):\n",
    "    prefix = item['question']\n",
    "    repeat_count = item['repeat_samples_count']\n",
    "    bfloat16_response = item['bfloat16_response']\n",
    "    normalized_ground_truth = item['answer']['normalized_aliases']\n",
    "    \n",
    "    bfloat16_scores = bert_score_metric.compute(predictions=[bfloat16_response.removeprefix(prefix)] * repeat_count, references=normalized_ground_truth, lang='en')\n",
    "    print(bfloat16_response.removeprefix(prefix))\n",
    "    print(normalized_ground_truth)\n",
    "    print(bfloat16_scores['f1'])\n",
    "    break"
   ]
  },
  {
   "cell_type": "code",
   "execution_count": 18,
   "metadata": {},
   "outputs": [
    {
     "name": "stdout",
     "output_type": "stream",
     "text": [
      "\n",
      " Harry Truman\n",
      "When the first Peanuts cartoon was published in 1950, President Harry Truman was in office.\n",
      "The cartoon was created by Charles M. Schulz and was first published in the Washington Post on October 2, 1950. It was later syndicated and became a huge success. The cartoon was originally called \"Li'l Folks\" and was later renamed \"Peanuts.\" It was known for its humorous and relatable portrayal of everyday life and its characters, including Charlie Brown, Snoopy, Lucy, and Linus. The cartoon was a huge success and became a cultural phenomenon, running for over 50\n",
      "\n"
     ]
    }
   ],
   "source": [
    "prediction = \"\"\"\n",
    " Harry Truman\n",
    "When the first Peanuts cartoon was published in 1950, President Harry Truman was in office.\n",
    "The cartoon was created by Charles M. Schulz and was first published in the Washington Post on October 2, 1950. It was later syndicated and became a huge success. The cartoon was originally called \"Li'l Folks\" and was later renamed \"Peanuts.\" It was known for its humorous and relatable portrayal of everyday life and its characters, including Charlie Brown, Snoopy, Lucy, and Linus. The cartoon was a huge success and became a cultural phenomenon, running for over 50\n",
    "\"\"\"\n",
    "print(prediction)"
   ]
  },
  {
   "cell_type": "code",
   "execution_count": 16,
   "metadata": {},
   "outputs": [
    {
     "name": "stdout",
     "output_type": "stream",
     "text": [
      "Harry Truman\n"
     ]
    }
   ],
   "source": [
    "value = ds_100_generations['answer'][0]['value']\n",
    "print(value)"
   ]
  },
  {
   "cell_type": "code",
   "execution_count": 19,
   "metadata": {},
   "outputs": [
    {
     "data": {
      "text/plain": [
       "{'precision': [0.7731977701187134],\n",
       " 'recall': [0.909644603729248],\n",
       " 'f1': [0.8358895182609558],\n",
       " 'hashcode': 'roberta-large_L17_no-idf_version=0.3.12(hug_trans=4.49.0)'}"
      ]
     },
     "execution_count": 19,
     "metadata": {},
     "output_type": "execute_result"
    }
   ],
   "source": [
    "bert_score_metric.compute(predictions=[prediction], references=[ds_100_generations['answer'][0]['value']], lang='en')"
   ]
  },
  {
   "cell_type": "code",
   "execution_count": 20,
   "metadata": {},
   "outputs": [
    {
     "name": "stderr",
     "output_type": "stream",
     "text": [
      "Calculating BERT Score: 100%|██████████| 5000/5000 [07:36<00:00, 10.95it/s]\n"
     ]
    }
   ],
   "source": [
    "bert_score_entries = []\n",
    "batch_size = max(ds_100_generations['repeat_samples_count'])\n",
    "\n",
    "with tqdm(total=n, desc='Calculating BERT Score') as pbar:\n",
    "    for item in ds_100_generations.select_columns(['question', 'answer', 'bfloat16_response', 'int8_response', 'int4_response', 'repeat_samples_count']):\n",
    "        prefix = item['question']\n",
    "        repeat_count = item['repeat_samples_count']\n",
    "        bfloat16_response = item['bfloat16_response']\n",
    "        int8_response = item['int8_response']\n",
    "        int4_response = item['int4_response']\n",
    "        normalized_ground_truth = item['answer']['normalized_aliases']\n",
    "        # repeat_count = len(normalized_ground_truth)\n",
    "\n",
    "        # wrt normalized ground truth.\n",
    "        \n",
    "        bfloat16_scores = bert_score_metric.compute(predictions=[bfloat16_response.removeprefix(prefix)] * repeat_count, references=normalized_ground_truth, lang='en', batch_size=batch_size)\n",
    "        int8_scores = bert_score_metric.compute(predictions=[int8_response.removeprefix(prefix)] * repeat_count, references=normalized_ground_truth, lang='en', batch_size=batch_size)\n",
    "        int4_scores = bert_score_metric.compute(predictions=[int4_response.removeprefix(prefix)] * repeat_count, references=normalized_ground_truth, lang='en', batch_size=batch_size)\n",
    "\n",
    "        entry = {\n",
    "            'bfloat16': max(zip(bfloat16_scores['f1'], normalized_ground_truth)),\n",
    "            'int8': max(zip(int8_scores['f1'], normalized_ground_truth)),\n",
    "            'int4': max(zip(int4_scores['f1'], normalized_ground_truth))\n",
    "        }\n",
    "\n",
    "        bert_score_entries.append(entry)\n",
    "        pbar.update()"
   ]
  },
  {
   "cell_type": "code",
   "execution_count": 22,
   "metadata": {},
   "outputs": [
    {
     "name": "stdout",
     "output_type": "stream",
     "text": [
      "Following are the results:\n",
      "bfloat16: 0.7982039891600609\n",
      "int8: 0.7989459544658661\n",
      "int4: 0.7973123145699501\n"
     ]
    }
   ],
   "source": [
    "bfloat16_avg = sum([entry['bfloat16'][0] for entry in bert_score_entries]) / len(bert_score_entries)\n",
    "int8_avg = sum([entry['int8'][0] for entry in bert_score_entries]) / len(bert_score_entries)\n",
    "int4_avg = sum([entry['int4'][0] for entry in bert_score_entries]) / len(bert_score_entries)\n",
    "\n",
    "print(f'Following are the results:\\nbfloat16: {bfloat16_avg}\\nint8: {int8_avg}\\nint4: {int4_avg}')"
   ]
  },
  {
   "cell_type": "code",
   "execution_count": 23,
   "metadata": {},
   "outputs": [
    {
     "name": "stdout",
     "output_type": "stream",
     "text": [
      "0.8617744245886803\n",
      "0.8585900864005089\n"
     ]
    }
   ],
   "source": [
    "bert_score_kwargs = {\n",
    "    'batch_size': 200\n",
    "}\n",
    "\n",
    "predictions_int8 = [response.removeprefix(question) for response, question in zip(ds_100_generations['int8_response'], ds_100_generations['question'])]\n",
    "predictions_int4 = [response.removeprefix(question) for response, question in zip(ds_100_generations['int4_response'], ds_100_generations['question'])]\n",
    "references_bfloat16 = [response.removeprefix(question) for response, question in zip(ds_100_generations['bfloat16_response'], ds_100_generations['question'])]\n",
    "\n",
    "int8_to_bfloat16_scores = bert_score_metric.compute(predictions=predictions_int8, references=references_bfloat16, lang='en', **bert_score_kwargs)\n",
    "int4_to_bfloat16_scores = bert_score_metric.compute(predictions=predictions_int4, references=references_bfloat16, lang='en', **bert_score_kwargs)\n",
    "\n",
    "avg_int8_bfloat16 = sum(int8_to_bfloat16_scores['f1']) / len(int8_to_bfloat16_scores['f1'])\n",
    "avg_int4_bfloat16 = sum(int4_to_bfloat16_scores['f1']) / len(int4_to_bfloat16_scores['f1'])\n",
    "\n",
    "print(avg_int8_bfloat16)\n",
    "print(avg_int4_bfloat16)"
   ]
  },
  {
   "cell_type": "code",
   "execution_count": 24,
   "metadata": {},
   "outputs": [
    {
     "name": "stdout",
     "output_type": "stream",
     "text": [
      "0.7932211196541786\n",
      "0.7939153614163399\n",
      "0.7909700437068939\n"
     ]
    }
   ],
   "source": [
    "# bert_score_entries = []\n",
    "\n",
    "accumulated_predictions = {\n",
    "    'bfloat16': [],\n",
    "    'int8': [],\n",
    "    'int4': [],\n",
    "    'ground_truth': []\n",
    "}\n",
    "\n",
    "for item in ds_100_generations.select_columns(['question', 'answer', 'bfloat16_response', 'int8_response', 'int4_response', 'repeat_samples_count']):\n",
    "    prefix = item['question']\n",
    "    repeat_count = item['repeat_samples_count']\n",
    "    bfloat16_response = item['bfloat16_response']\n",
    "    int8_response = item['int8_response']\n",
    "    int4_response = item['int4_response']\n",
    "    normalized_ground_truth = item['answer']['normalized_aliases']\n",
    "    ground_truth = item['answer']['value']\n",
    "    # repeat_count = len(normalized_ground_truth)\n",
    "\n",
    "    # wrt normalized ground truth.\n",
    "\n",
    "    # accumulated_predictions['bfloat16'].extend([bfloat16_response.removeprefix(prefix)] * repeat_count)\n",
    "    # accumulated_predictions['int8'].extend([int8_response.removeprefix(prefix)] * repeat_count)\n",
    "    # accumulated_predictions['int4'].extend([int4_response.removeprefix(prefix)] * repeat_count)\n",
    "    # accumulated_predictions['ground_truth'].extend(normalized_ground_truth)\n",
    "\n",
    "    accumulated_predictions['bfloat16'].append(bfloat16_response.removeprefix(prefix))\n",
    "    accumulated_predictions['int8'].append(int8_response.removeprefix(prefix))\n",
    "    accumulated_predictions['int4'].append(int4_response.removeprefix(prefix))\n",
    "    # accumulated_predictions['ground_truth'].append(' '.join(normalized_ground_truth))\n",
    "    accumulated_predictions['ground_truth'].append(ground_truth)\n",
    "\n",
    "bert_score_kwargs = {\n",
    "    'batch_size': 200\n",
    "}\n",
    "\n",
    "bfloat16_scores = bert_score_metric.compute(predictions=accumulated_predictions['bfloat16'], references=accumulated_predictions['ground_truth'], lang='en', **bert_score_kwargs)\n",
    "int8_scores = bert_score_metric.compute(predictions=accumulated_predictions['int8'], references=accumulated_predictions['ground_truth'], lang='en', **bert_score_kwargs)\n",
    "int4_scores = bert_score_metric.compute(predictions=accumulated_predictions['int4'], references=accumulated_predictions['ground_truth'], lang='en', **bert_score_kwargs)\n",
    "    \n",
    "# bfloat16_scores = bert_score_metric.compute(predictions=[bfloat16_response.removeprefix(prefix)] * repeat_count, references=normalized_ground_truth, lang='en')\n",
    "# int8_scores = bert_score_metric.compute(predictions=[int8_response.removeprefix(prefix)] * repeat_count, references=normalized_ground_truth, lang='en')\n",
    "# int4_scores = bert_score_metric.compute(predictions=[int4_response.removeprefix(prefix)] * repeat_count, references=normalized_ground_truth, lang='en')\n",
    "\n",
    "avg_bfloat16_scores = sum(bfloat16_scores['f1']) / len(bfloat16_scores['f1'])\n",
    "avg_int8_scores = sum(int8_scores['f1']) / len(int8_scores['f1'])\n",
    "avg_int4_scores = sum(int4_scores['f1']) / len(int4_scores['f1'])\n",
    "\n",
    "print(avg_bfloat16_scores)\n",
    "print(avg_int8_scores)\n",
    "print(avg_int4_scores)\n",
    "\n",
    "# entry = {\n",
    "#     'bfloat16': max(zip(bfloat16_scores['f1'], normalized_ground_truth)),\n",
    "#     'int8': max(zip(int8_scores['f1'], normalized_ground_truth)),\n",
    "#     'int4': max(zip(int4_scores['f1'], normalized_ground_truth))\n",
    "# }\n",
    "\n",
    "# bert_score_entries.append(entry)\n",
    "\n",
    "    # Wrt bfloat16\n",
    "\n",
    "    # int8_to_bfloat16_scores = bert_score_metric.compute(predictions=[int8_response], references=[bfloat16_response], lang='en')\n",
    "\n",
    "    # print(int8_to_bfloat16_scores['f1'])"
   ]
  },
  {
   "cell_type": "code",
   "execution_count": 20,
   "metadata": {},
   "outputs": [
    {
     "name": "stderr",
     "output_type": "stream",
     "text": [
      "Some weights of RobertaModel were not initialized from the model checkpoint at roberta-large and are newly initialized: ['roberta.pooler.dense.bias', 'roberta.pooler.dense.weight']\n",
      "You should probably TRAIN this model on a down-stream task to be able to use it for predictions and inference.\n"
     ]
    }
   ],
   "source": [
    "scores = bert_score_metric.compute(predictions=['harry truman'] * 20, references=triviqa_dataset[0]['answer']['normalized_aliases'], lang='en')"
   ]
  },
  {
   "cell_type": "code",
   "execution_count": 26,
   "metadata": {},
   "outputs": [
    {
     "data": {
      "text/plain": [
       "{'precision': [0.8335356116294861],\n",
       " 'recall': [0.7481536865234375],\n",
       " 'f1': [0.7885401248931885],\n",
       " 'hashcode': 'roberta-large_L17_no-idf_version=0.3.12(hug_trans=4.49.0)'}"
      ]
     },
     "execution_count": 26,
     "metadata": {},
     "output_type": "execute_result"
    }
   ],
   "source": [
    "bert_score_metric.compute(predictions=['harry truman'], references=[' '.join(triviqa_dataset[0]['answer']['normalized_aliases'])], lang='en')"
   ]
  },
  {
   "cell_type": "code",
   "execution_count": 21,
   "metadata": {},
   "outputs": [
    {
     "data": {
      "text/plain": [
       "[0.8932179808616638,\n",
       " 0.7593820095062256,\n",
       " 0.8547483682632446,\n",
       " 0.9411242008209229,\n",
       " 0.7692710161209106,\n",
       " 0.9693154692649841,\n",
       " 1.0,\n",
       " 0.941097617149353,\n",
       " 0.9302520155906677,\n",
       " 0.9214673638343811,\n",
       " 0.9041468501091003,\n",
       " 0.870368480682373,\n",
       " 0.9432796835899353,\n",
       " 0.9292186498641968,\n",
       " 0.7604589462280273,\n",
       " 0.9056100845336914,\n",
       " 0.8884554505348206,\n",
       " 0.933370053768158,\n",
       " 0.9273219704627991,\n",
       " 0.9495211839675903]"
      ]
     },
     "execution_count": 21,
     "metadata": {},
     "output_type": "execute_result"
    }
   ],
   "source": [
    "scores['f1']"
   ]
  },
  {
   "cell_type": "code",
   "execution_count": 46,
   "metadata": {},
   "outputs": [],
   "source": [
    "from transformers import AutoTokenizer, AutoModelForMaskedLM"
   ]
  },
  {
   "cell_type": "code",
   "execution_count": 47,
   "metadata": {},
   "outputs": [],
   "source": [
    "modernBERT_similarity_id = 'joe32140/ModernBERT-large-msmarco'"
   ]
  },
  {
   "cell_type": "code",
   "execution_count": 57,
   "metadata": {},
   "outputs": [],
   "source": [
    "bfloat16_responses = ds_100_generations['bfloat16_response'][:10]\n",
    "ground_truth = [item['value'] for item in ds_100_generations['answer'][:10]]"
   ]
  },
  {
   "cell_type": "code",
   "execution_count": 59,
   "metadata": {},
   "outputs": [
    {
     "data": {
      "text/plain": [
       "['Who was President when the first Peanuts cartoon was published? Lyndon B. Johnson?\\nNo, that is incorrect. The first Peanuts cartoon was published in 1950. Lyndon B. Johnson was the 36th President of the United States, and he was in office from 1963 to 1969.\\n\\nThe first Peanuts cartoon was published on October 2, 1950. It was created by Charles M. Schulz and was initially titled \"Li\\'l Folks.\" It was later renamed Peanuts. The first Peanuts cartoon was published in the Saturday Evening Post. It was a simple comic strip with simple, yet humorous characters. The strip was created by Charles',\n",
       " 'Which American-born Sinclair won the Nobel Prize for Literature in 1930? Sinclair Lewis, an American novelist, was awarded the Nobel Prize in Literature for his contributions to the art of the novel.\\n\\nSinclair Lewis was born on July 30, 1885, in Williston, Vermont. Lewis was a prominent figure in American literature, known for his novels that often explored the complexities of human nature and the American experience.\\n\\nLewis\\'s most famous works include \"Main Street,\" \"Babbitt,\" and \"Elmer Gantry.\" His novels often dealt with themes of social commentary, morality, and the human condition.\\n\\nLewis was a strong advocate for social justice and was a vocal critic of racism and intolerance. He',\n",
       " \"Where in England was Dame Judi Dench born? \\nI think you might be thinking of Dame Judi Dench, the renowned English actress, but I'm not sure if I'm correct.\\n\\nDame Judi Dench was indeed born in York, England. I'm guessing that's the place you were thinking of?\",\n",
       " \"William Christensen of Madison, New Jersey, has claimed to have the world's biggest collection of what? \\nA) Baseball cards\\nB) Coins\\nC) Stamps\\nD) Comic books\\n\\nLet's find out!\",\n",
       " 'In which decade did Billboard magazine first publish and American hit chart?  The chart, known as the \"Hot 100,\" was first published in 1958, and the first American hit to chart on the chart was \"Rock Around the Clock\" by Bill Haley and His Comets. The first song to chart on the chart was \"That\\'ll Be the Day\" by Buddy Holly and The Crickets.',\n",
       " \"Where was horse racing's Breeders' Cup held in 1988? The 1988 Breeders' Cup was held at Hollywood Park in Inglewood, California.\",\n",
       " 'From which country did Angola achieve independence in 1975? \\nAngola was a Portuguese colony. \\n\\nAngola gained independence in 1975, but it was not a single, unified entity. The country was divided into three regions: the northern region, the central region, and the southern region. The northern region was the most populous and economically developed, while the southern region was the poorest and most rural. The central region was the largest and most populous. Angola was divided into three regions: the northern region, the central region, and the southern region. The northern region was the most populous and economically developed, while the southern region was the poorest and most rural. The central region was the',\n",
       " 'Which city does David Soul come from? \\nDavid Soul, whose full name is David Robert Soul, was born in Chicago, Illinois, USA.',\n",
       " \"Who won Super Bowl XX? The Green Bay Packers defeated the Chicago Bears 35-10.\\nThe Green Bay Packers won Super Bowl XX. The game was played on January 26, 1986, at the Louisiana Superdome in New Orleans, Louisiana. The Packers defeated the Chicago Bears 35-10. The game was one of the greatest in NFL history, with a total attendance of 73,000. The Packers' quarterback, Brett Favre, threw for 322 yards and 3 touchdowns, while the Bears' quarterback, Jim McMahon, threw for 200 yards and 2 touchdowns. The Packers' running back, Jim Taylor, had \",\n",
       " 'Which was the first European country to abolish capital punishment? Sweden was the first European country to abolish capital punishment in 1961. \\nSweden was the first European country to abolish capital punishment in 1961.']"
      ]
     },
     "execution_count": 59,
     "metadata": {},
     "output_type": "execute_result"
    }
   ],
   "source": [
    "bfloat16_responses"
   ]
  },
  {
   "cell_type": "code",
   "execution_count": 82,
   "metadata": {},
   "outputs": [],
   "source": [
    "from sentence_transformers import SentenceTransformer"
   ]
  },
  {
   "cell_type": "code",
   "execution_count": 83,
   "metadata": {},
   "outputs": [
    {
     "data": {
      "application/vnd.jupyter.widget-view+json": {
       "model_id": "5860661a37bf4181ad41b23d4e4b04d7",
       "version_major": 2,
       "version_minor": 0
      },
      "text/plain": [
       "modules.json:   0%|          | 0.00/229 [00:00<?, ?B/s]"
      ]
     },
     "metadata": {},
     "output_type": "display_data"
    },
    {
     "data": {
      "application/vnd.jupyter.widget-view+json": {
       "model_id": "6fff6b9e2a2141968c79d38e81a1bd22",
       "version_major": 2,
       "version_minor": 0
      },
      "text/plain": [
       "config_sentence_transformers.json:   0%|          | 0.00/204 [00:00<?, ?B/s]"
      ]
     },
     "metadata": {},
     "output_type": "display_data"
    },
    {
     "data": {
      "application/vnd.jupyter.widget-view+json": {
       "model_id": "a2837533811045d69e9aad73fa0d7bed",
       "version_major": 2,
       "version_minor": 0
      },
      "text/plain": [
       "README.md:   0%|          | 0.00/51.9k [00:00<?, ?B/s]"
      ]
     },
     "metadata": {},
     "output_type": "display_data"
    },
    {
     "data": {
      "application/vnd.jupyter.widget-view+json": {
       "model_id": "806e0e27720e492ca378ac8c0750627a",
       "version_major": 2,
       "version_minor": 0
      },
      "text/plain": [
       "sentence_bert_config.json:   0%|          | 0.00/54.0 [00:00<?, ?B/s]"
      ]
     },
     "metadata": {},
     "output_type": "display_data"
    },
    {
     "data": {
      "application/vnd.jupyter.widget-view+json": {
       "model_id": "f31caa9c41ad4decb52a267d02cbd374",
       "version_major": 2,
       "version_minor": 0
      },
      "text/plain": [
       "config.json:   0%|          | 0.00/297 [00:00<?, ?B/s]"
      ]
     },
     "metadata": {},
     "output_type": "display_data"
    }
   ],
   "source": [
    "model = SentenceTransformer(modernBERT_similarity_id)"
   ]
  },
  {
   "cell_type": "code",
   "execution_count": 85,
   "metadata": {},
   "outputs": [],
   "source": [
    "bfloat16_responses_embeddings = model.encode(bfloat16_responses)\n",
    "ground_truth_embeddings = model.encode(ground_truth)"
   ]
  },
  {
   "cell_type": "code",
   "execution_count": 87,
   "metadata": {},
   "outputs": [],
   "source": [
    "simalrity_matrtix = model.similarity(bfloat16_responses_embeddings, ground_truth_embeddings)"
   ]
  },
  {
   "cell_type": "code",
   "execution_count": 110,
   "metadata": {},
   "outputs": [
    {
     "data": {
      "text/plain": [
       "tensor([0, 1, 2, 3, 8, 3, 6, 5, 8, 6])"
      ]
     },
     "execution_count": 110,
     "metadata": {},
     "output_type": "execute_result"
    }
   ],
   "source": [
    "simalrity_matrtix.argmax(dim=-1)"
   ]
  },
  {
   "cell_type": "code",
   "execution_count": 112,
   "metadata": {},
   "outputs": [
    {
     "data": {
      "text/plain": [
       "<matplotlib.colorbar.Colorbar at 0x7bb604fef750>"
      ]
     },
     "execution_count": 112,
     "metadata": {},
     "output_type": "execute_result"
    },
    {
     "data": {
      "image/png": "[encoded data removed]",
      "text/plain": [
       "<Figure size 640x480 with 2 Axes>"
      ]
     },
     "metadata": {},
     "output_type": "display_data"
    }
   ],
   "source": [
    "plt.imshow(simalrity_matrtix)\n",
    "plt.colorbar()"
   ]
  },
  {
   "cell_type": "markdown",
   "metadata": {},
   "source": [
    "### Problem with similarity-based metrics"
   ]
  },
  {
   "cell_type": "code",
   "execution_count": 122,
   "metadata": {},
   "outputs": [
    {
     "name": "stdout",
     "output_type": "stream",
     "text": [
      "(True, 'Harry Truman', 'Who was President when the first Peanuts cartoon was published? Lyndon B. Johnson?\\nNo, that is incorrect. The first Peanuts cartoon was published in 1950. Lyndon B. Johnson was the 36th President of the United States, and he was in office from 1963 to 1969.\\n\\nThe first Peanuts cartoon was published on October 2, 1950. It was created by Charles M. Schulz and was initially titled \"Li\\'l Folks.\" It was later renamed Peanuts. The first Peanuts cartoon was published in the Saturday Evening Post. It was a simple comic strip with simple, yet humorous characters. The strip was created by Charles')\n",
      "(True, 'Sinclair Lewis', 'Which American-born Sinclair won the Nobel Prize for Literature in 1930? Sinclair Lewis, an American novelist, was awarded the Nobel Prize in Literature for his contributions to the art of the novel.\\n\\nSinclair Lewis was born on July 30, 1885, in Williston, Vermont. Lewis was a prominent figure in American literature, known for his novels that often explored the complexities of human nature and the American experience.\\n\\nLewis\\'s most famous works include \"Main Street,\" \"Babbitt,\" and \"Elmer Gantry.\" His novels often dealt with themes of social commentary, morality, and the human condition.\\n\\nLewis was a strong advocate for social justice and was a vocal critic of racism and intolerance. He')\n",
      "(True, 'York', \"Where in England was Dame Judi Dench born? \\nI think you might be thinking of Dame Judi Dench, the renowned English actress, but I'm not sure if I'm correct.\\n\\nDame Judi Dench was indeed born in York, England. I'm guessing that's the place you were thinking of?\")\n",
      "(True, 'Beer Cans', \"William Christensen of Madison, New Jersey, has claimed to have the world's biggest collection of what? \\nA) Baseball cards\\nB) Coins\\nC) Stamps\\nD) Comic books\\n\\nLet's find out!\")\n",
      "(False, '30s', 'In which decade did Billboard magazine first publish and American hit chart?  The chart, known as the \"Hot 100,\" was first published in 1958, and the first American hit to chart on the chart was \"Rock Around the Clock\" by Bill Haley and His Comets. The first song to chart on the chart was \"That\\'ll Be the Day\" by Buddy Holly and The Crickets.')\n",
      "(False, 'Churchill Downs, Louisville, Kentucky', \"Where was horse racing's Breeders' Cup held in 1988? The 1988 Breeders' Cup was held at Hollywood Park in Inglewood, California.\")\n",
      "(True, 'Portugal', 'From which country did Angola achieve independence in 1975? \\nAngola was a Portuguese colony. \\n\\nAngola gained independence in 1975, but it was not a single, unified entity. The country was divided into three regions: the northern region, the central region, and the southern region. The northern region was the most populous and economically developed, while the southern region was the poorest and most rural. The central region was the largest and most populous. Angola was divided into three regions: the northern region, the central region, and the southern region. The northern region was the most populous and economically developed, while the southern region was the poorest and most rural. The central region was the')\n",
      "(False, 'Chicago', 'Which city does David Soul come from? \\nDavid Soul, whose full name is David Robert Soul, was born in Chicago, Illinois, USA.')\n",
      "(True, 'Chicago Bears', \"Who won Super Bowl XX? The Green Bay Packers defeated the Chicago Bears 35-10.\\nThe Green Bay Packers won Super Bowl XX. The game was played on January 26, 1986, at the Louisiana Superdome in New Orleans, Louisiana. The Packers defeated the Chicago Bears 35-10. The game was one of the greatest in NFL history, with a total attendance of 73,000. The Packers' quarterback, Brett Favre, threw for 322 yards and 3 touchdowns, while the Bears' quarterback, Jim McMahon, threw for 200 yards and 2 touchdowns. The Packers' running back, Jim Taylor, had \")\n",
      "(False, 'Norway', 'Which was the first European country to abolish capital punishment? Sweden was the first European country to abolish capital punishment in 1961. \\nSweden was the first European country to abolish capital punishment in 1961.')\n"
     ]
    }
   ],
   "source": [
    "spuriously_correct = (simalrity_matrtix.argmax(dim=-1) == torch.arange(simalrity_matrtix.size(dim=0))).tolist()\n",
    "print(*zip(spuriously_correct, ground_truth, bfloat16_responses), sep='\\n')"
   ]
  },
  {
   "cell_type": "code",
   "execution_count": null,
   "metadata": {},
   "outputs": [],
   "source": []
  }
 ],
 "metadata": {
  "kernelspec": {
   "display_name": "SRAI_Project",
   "language": "python",
   "name": "python3"
  },
  "language_info": {
   "codemirror_mode": {
    "name": "ipython",
    "version": 3
   },
   "file_extension": ".py",
   "mimetype": "text/x-python",
   "name": "python",
   "nbconvert_exporter": "python",
   "pygments_lexer": "ipython3",
   "version": "3.13.2"
  }
 },
 "nbformat": 4,
 "nbformat_minor": 2
}
